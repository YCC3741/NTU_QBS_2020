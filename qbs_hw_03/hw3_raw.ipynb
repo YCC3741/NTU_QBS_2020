{
  "nbformat": 4,
  "nbformat_minor": 0,
  "metadata": {
    "colab": {
      "name": "hw3_raw.ipynb",
      "provenance": [],
      "collapsed_sections": [],
      "machine_shape": "hm"
    },
    "kernelspec": {
      "name": "python3",
      "display_name": "Python 3"
    },
    "accelerator": "GPU"
  },
  "cells": [
    {
      "cell_type": "code",
      "metadata": {
        "id": "_fPP8bmg_m6q",
        "colab_type": "code",
        "outputId": "05570c26-abd5-4c03-faba-d15753eb63bb",
        "colab": {
          "base_uri": "https://localhost:8080/",
          "height": 55
        }
      },
      "source": [
        "from google.colab import drive\n",
        "drive.mount('/content/gdrive/')"
      ],
      "execution_count": 0,
      "outputs": [
        {
          "output_type": "stream",
          "text": [
            "Drive already mounted at /content/gdrive/; to attempt to forcibly remount, call drive.mount(\"/content/gdrive/\", force_remount=True).\n"
          ],
          "name": "stdout"
        }
      ]
    },
    {
      "cell_type": "code",
      "metadata": {
        "id": "AZwJkkTbVWpr",
        "colab_type": "code",
        "outputId": "dae95108-a0ea-42ae-e74b-c3dcaf476b7e",
        "colab": {
          "base_uri": "https://localhost:8080/",
          "height": 89
        }
      },
      "source": [
        "from zipfile import ZipFile\n",
        "import pandas as pd\n",
        "import numpy as np # linear algebra\n",
        "import matplotlib.pyplot as plt\n",
        "import tensorflow as tf\n",
        "import seaborn as sns\n",
        "\n",
        "import os\n",
        "import json\n",
        "\n",
        "import cv2\n",
        "from tqdm import tqdm\n",
        "\n",
        "from sklearn.model_selection import train_test_split\n",
        "\n",
        "import keras\n",
        "from keras import layers\n",
        "from keras.applications import DenseNet121\n",
        "from keras.callbacks import Callback, ModelCheckpoint, ReduceLROnPlateau\n",
        "from keras.preprocessing.image import ImageDataGenerator\n",
        "from keras.models import Sequential\n",
        "from keras.optimizers import Adam, Nadam\n",
        "from keras import backend as K\n",
        "from keras.models import Model, load_model\n",
        "from keras.layers import Input\n",
        "from keras.layers.convolutional import Conv2D, Conv2DTranspose\n",
        "from keras.layers.pooling import MaxPooling2D\n",
        "from keras.layers.merge import concatenate\n",
        "from keras import models"
      ],
      "execution_count": 0,
      "outputs": [
        {
          "output_type": "stream",
          "text": [
            "/usr/local/lib/python3.6/dist-packages/statsmodels/tools/_testing.py:19: FutureWarning: pandas.util.testing is deprecated. Use the functions in the public API at pandas.testing instead.\n",
            "  import pandas.util.testing as tm\n",
            "Using TensorFlow backend.\n"
          ],
          "name": "stderr"
        }
      ]
    },
    {
      "cell_type": "code",
      "metadata": {
        "id": "AstSZV2DWhDG",
        "colab_type": "code",
        "colab": {}
      },
      "source": [
        "'''!cp -r \"/content/gdrive/My Drive/hw3_data_raw\" \"/content/hw3_data_raw\"'''"
      ],
      "execution_count": 0,
      "outputs": []
    },
    {
      "cell_type": "code",
      "metadata": {
        "id": "md5zgnWoVY6U",
        "colab_type": "code",
        "outputId": "0fd22320-6b8c-4afd-a2e5-3a833c1d7721",
        "colab": {
          "base_uri": "https://localhost:8080/",
          "height": 215
        }
      },
      "source": [
        "defect_df = pd.read_csv('/content/hw3_data_raw/train.csv')\n",
        "\n",
        "print(defect_df.shape)\n",
        "defect_df.head()"
      ],
      "execution_count": 0,
      "outputs": [
        {
          "output_type": "stream",
          "text": [
            "(4985, 3)\n"
          ],
          "name": "stdout"
        },
        {
          "output_type": "execute_result",
          "data": {
            "text/html": [
              "<div>\n",
              "<style scoped>\n",
              "    .dataframe tbody tr th:only-of-type {\n",
              "        vertical-align: middle;\n",
              "    }\n",
              "\n",
              "    .dataframe tbody tr th {\n",
              "        vertical-align: top;\n",
              "    }\n",
              "\n",
              "    .dataframe thead th {\n",
              "        text-align: right;\n",
              "    }\n",
              "</style>\n",
              "<table border=\"1\" class=\"dataframe\">\n",
              "  <thead>\n",
              "    <tr style=\"text-align: right;\">\n",
              "      <th></th>\n",
              "      <th>ImageId</th>\n",
              "      <th>ClassId</th>\n",
              "      <th>EncodedPixels</th>\n",
              "    </tr>\n",
              "  </thead>\n",
              "  <tbody>\n",
              "    <tr>\n",
              "      <th>0</th>\n",
              "      <td>1</td>\n",
              "      <td>1</td>\n",
              "      <td>29102 12 29346 24 29602 24 29858 24 30114 24 3...</td>\n",
              "    </tr>\n",
              "    <tr>\n",
              "      <th>1</th>\n",
              "      <td>5</td>\n",
              "      <td>3</td>\n",
              "      <td>18661 28 18863 82 19091 110 19347 110 19603 11...</td>\n",
              "    </tr>\n",
              "    <tr>\n",
              "      <th>2</th>\n",
              "      <td>6</td>\n",
              "      <td>1</td>\n",
              "      <td>37607 3 37858 8 38108 14 38359 20 38610 25 388...</td>\n",
              "    </tr>\n",
              "    <tr>\n",
              "      <th>3</th>\n",
              "      <td>7</td>\n",
              "      <td>4</td>\n",
              "      <td>131973 1 132228 4 132483 6 132738 8 132993 11 ...</td>\n",
              "    </tr>\n",
              "    <tr>\n",
              "      <th>4</th>\n",
              "      <td>8</td>\n",
              "      <td>3</td>\n",
              "      <td>229501 11 229741 33 229981 55 230221 77 230468...</td>\n",
              "    </tr>\n",
              "  </tbody>\n",
              "</table>\n",
              "</div>"
            ],
            "text/plain": [
              "   ImageId  ClassId                                      EncodedPixels\n",
              "0        1        1  29102 12 29346 24 29602 24 29858 24 30114 24 3...\n",
              "1        5        3  18661 28 18863 82 19091 110 19347 110 19603 11...\n",
              "2        6        1  37607 3 37858 8 38108 14 38359 20 38610 25 388...\n",
              "3        7        4  131973 1 132228 4 132483 6 132738 8 132993 11 ...\n",
              "4        8        3  229501 11 229741 33 229981 55 230221 77 230468..."
            ]
          },
          "metadata": {
            "tags": []
          },
          "execution_count": 3
        }
      ]
    },
    {
      "cell_type": "code",
      "metadata": {
        "id": "_NQKmskcVa5t",
        "colab_type": "code",
        "outputId": "1e73315f-810a-4a22-f533-d45d186099f7",
        "colab": {
          "base_uri": "https://localhost:8080/",
          "height": 407
        }
      },
      "source": [
        "defect_df_gp = defect_df.groupby(by='ImageId', axis=0).agg('sum').drop(\"ClassId\", axis=1)\n",
        "defect_df_gp.reset_index(inplace=True)\n",
        "defect_df_gp[\"allMissing\"] = 0\n",
        "\n",
        "train_name = sorted([int(name.split(\".\")[0]) for name in os.listdir('/content/hw3_data_raw/train_images')])\n",
        "defect_name = sorted(list(defect_df_gp[\"ImageId\"]))\n",
        "nondefect_name = sorted(list(set(train_name)-set(defect_name)))\n",
        "\n",
        "nondefect_df = pd.DataFrame(data={\"ImageId\": nondefect_name , \"allMissing\":1})\n",
        "\n",
        "train_df_gp = pd.concat([defect_df_gp, nondefect_df])\n",
        "train_df_gp = train_df_gp.sort_values(\"ImageId\")\n",
        "train_df_gp.reset_index(inplace=True)\n",
        "train_df_gp = train_df_gp.drop(\"index\", axis=1)\n",
        "train_df_gp[\"ImageId\"] = train_df_gp[\"ImageId\"].astype(\"str\")\n",
        "train_df_gp[\"ImageId\"] = train_df_gp[\"ImageId\"].apply(lambda x: \"{}.JPG\".format(x))\n",
        "train_df_gp"
      ],
      "execution_count": 0,
      "outputs": [
        {
          "output_type": "execute_result",
          "data": {
            "text/html": [
              "<div>\n",
              "<style scoped>\n",
              "    .dataframe tbody tr th:only-of-type {\n",
              "        vertical-align: middle;\n",
              "    }\n",
              "\n",
              "    .dataframe tbody tr th {\n",
              "        vertical-align: top;\n",
              "    }\n",
              "\n",
              "    .dataframe thead th {\n",
              "        text-align: right;\n",
              "    }\n",
              "</style>\n",
              "<table border=\"1\" class=\"dataframe\">\n",
              "  <thead>\n",
              "    <tr style=\"text-align: right;\">\n",
              "      <th></th>\n",
              "      <th>ImageId</th>\n",
              "      <th>allMissing</th>\n",
              "    </tr>\n",
              "  </thead>\n",
              "  <tbody>\n",
              "    <tr>\n",
              "      <th>0</th>\n",
              "      <td>1.JPG</td>\n",
              "      <td>0</td>\n",
              "    </tr>\n",
              "    <tr>\n",
              "      <th>1</th>\n",
              "      <td>2.JPG</td>\n",
              "      <td>1</td>\n",
              "    </tr>\n",
              "    <tr>\n",
              "      <th>2</th>\n",
              "      <td>3.JPG</td>\n",
              "      <td>1</td>\n",
              "    </tr>\n",
              "    <tr>\n",
              "      <th>3</th>\n",
              "      <td>5.JPG</td>\n",
              "      <td>0</td>\n",
              "    </tr>\n",
              "    <tr>\n",
              "      <th>4</th>\n",
              "      <td>6.JPG</td>\n",
              "      <td>0</td>\n",
              "    </tr>\n",
              "    <tr>\n",
              "      <th>...</th>\n",
              "      <td>...</td>\n",
              "      <td>...</td>\n",
              "    </tr>\n",
              "    <tr>\n",
              "      <th>8793</th>\n",
              "      <td>12561.JPG</td>\n",
              "      <td>0</td>\n",
              "    </tr>\n",
              "    <tr>\n",
              "      <th>8794</th>\n",
              "      <td>12563.JPG</td>\n",
              "      <td>1</td>\n",
              "    </tr>\n",
              "    <tr>\n",
              "      <th>8795</th>\n",
              "      <td>12564.JPG</td>\n",
              "      <td>1</td>\n",
              "    </tr>\n",
              "    <tr>\n",
              "      <th>8796</th>\n",
              "      <td>12567.JPG</td>\n",
              "      <td>0</td>\n",
              "    </tr>\n",
              "    <tr>\n",
              "      <th>8797</th>\n",
              "      <td>12568.JPG</td>\n",
              "      <td>0</td>\n",
              "    </tr>\n",
              "  </tbody>\n",
              "</table>\n",
              "<p>8798 rows × 2 columns</p>\n",
              "</div>"
            ],
            "text/plain": [
              "        ImageId  allMissing\n",
              "0         1.JPG           0\n",
              "1         2.JPG           1\n",
              "2         3.JPG           1\n",
              "3         5.JPG           0\n",
              "4         6.JPG           0\n",
              "...         ...         ...\n",
              "8793  12561.JPG           0\n",
              "8794  12563.JPG           1\n",
              "8795  12564.JPG           1\n",
              "8796  12567.JPG           0\n",
              "8797  12568.JPG           0\n",
              "\n",
              "[8798 rows x 2 columns]"
            ]
          },
          "metadata": {
            "tags": []
          },
          "execution_count": 4
        }
      ]
    },
    {
      "cell_type": "code",
      "metadata": {
        "id": "DBJt68-MVdCN",
        "colab_type": "code",
        "outputId": "c7239f70-e40a-4f5c-8984-16a59bd54db5",
        "colab": {
          "base_uri": "https://localhost:8080/",
          "height": 407
        }
      },
      "source": [
        "defect_df_gp"
      ],
      "execution_count": 0,
      "outputs": [
        {
          "output_type": "execute_result",
          "data": {
            "text/html": [
              "<div>\n",
              "<style scoped>\n",
              "    .dataframe tbody tr th:only-of-type {\n",
              "        vertical-align: middle;\n",
              "    }\n",
              "\n",
              "    .dataframe tbody tr th {\n",
              "        vertical-align: top;\n",
              "    }\n",
              "\n",
              "    .dataframe thead th {\n",
              "        text-align: right;\n",
              "    }\n",
              "</style>\n",
              "<table border=\"1\" class=\"dataframe\">\n",
              "  <thead>\n",
              "    <tr style=\"text-align: right;\">\n",
              "      <th></th>\n",
              "      <th>ImageId</th>\n",
              "      <th>allMissing</th>\n",
              "    </tr>\n",
              "  </thead>\n",
              "  <tbody>\n",
              "    <tr>\n",
              "      <th>0</th>\n",
              "      <td>1</td>\n",
              "      <td>0</td>\n",
              "    </tr>\n",
              "    <tr>\n",
              "      <th>1</th>\n",
              "      <td>5</td>\n",
              "      <td>0</td>\n",
              "    </tr>\n",
              "    <tr>\n",
              "      <th>2</th>\n",
              "      <td>6</td>\n",
              "      <td>0</td>\n",
              "    </tr>\n",
              "    <tr>\n",
              "      <th>3</th>\n",
              "      <td>7</td>\n",
              "      <td>0</td>\n",
              "    </tr>\n",
              "    <tr>\n",
              "      <th>4</th>\n",
              "      <td>8</td>\n",
              "      <td>0</td>\n",
              "    </tr>\n",
              "    <tr>\n",
              "      <th>...</th>\n",
              "      <td>...</td>\n",
              "      <td>...</td>\n",
              "    </tr>\n",
              "    <tr>\n",
              "      <th>4677</th>\n",
              "      <td>12558</td>\n",
              "      <td>0</td>\n",
              "    </tr>\n",
              "    <tr>\n",
              "      <th>4678</th>\n",
              "      <td>12559</td>\n",
              "      <td>0</td>\n",
              "    </tr>\n",
              "    <tr>\n",
              "      <th>4679</th>\n",
              "      <td>12561</td>\n",
              "      <td>0</td>\n",
              "    </tr>\n",
              "    <tr>\n",
              "      <th>4680</th>\n",
              "      <td>12567</td>\n",
              "      <td>0</td>\n",
              "    </tr>\n",
              "    <tr>\n",
              "      <th>4681</th>\n",
              "      <td>12568</td>\n",
              "      <td>0</td>\n",
              "    </tr>\n",
              "  </tbody>\n",
              "</table>\n",
              "<p>4682 rows × 2 columns</p>\n",
              "</div>"
            ],
            "text/plain": [
              "      ImageId  allMissing\n",
              "0           1           0\n",
              "1           5           0\n",
              "2           6           0\n",
              "3           7           0\n",
              "4           8           0\n",
              "...       ...         ...\n",
              "4677    12558           0\n",
              "4678    12559           0\n",
              "4679    12561           0\n",
              "4680    12567           0\n",
              "4681    12568           0\n",
              "\n",
              "[4682 rows x 2 columns]"
            ]
          },
          "metadata": {
            "tags": []
          },
          "execution_count": 5
        }
      ]
    },
    {
      "cell_type": "code",
      "metadata": {
        "id": "B3U6XjzeVfxt",
        "colab_type": "code",
        "outputId": "81707dac-3fd5-4623-a86a-2505d165c18e",
        "colab": {
          "base_uri": "https://localhost:8080/",
          "height": 407
        }
      },
      "source": [
        "test_name = sorted([int(name.split(\".\")[0]) for name in os.listdir('/content/hw3_data_raw/test_images')])\n",
        "\n",
        "test_df_gp = pd.DataFrame(data={\"ImageId\": test_name})\n",
        "test_df_gp[\"ImageId\"] = test_df_gp[\"ImageId\"].astype(\"str\")\n",
        "test_df_gp[\"ImageId\"] = test_df_gp[\"ImageId\"].apply(lambda x: \"{}.JPG\".format(x))\n",
        "test_df_gp"
      ],
      "execution_count": 0,
      "outputs": [
        {
          "output_type": "execute_result",
          "data": {
            "text/html": [
              "<div>\n",
              "<style scoped>\n",
              "    .dataframe tbody tr th:only-of-type {\n",
              "        vertical-align: middle;\n",
              "    }\n",
              "\n",
              "    .dataframe tbody tr th {\n",
              "        vertical-align: top;\n",
              "    }\n",
              "\n",
              "    .dataframe thead th {\n",
              "        text-align: right;\n",
              "    }\n",
              "</style>\n",
              "<table border=\"1\" class=\"dataframe\">\n",
              "  <thead>\n",
              "    <tr style=\"text-align: right;\">\n",
              "      <th></th>\n",
              "      <th>ImageId</th>\n",
              "    </tr>\n",
              "  </thead>\n",
              "  <tbody>\n",
              "    <tr>\n",
              "      <th>0</th>\n",
              "      <td>4.JPG</td>\n",
              "    </tr>\n",
              "    <tr>\n",
              "      <th>1</th>\n",
              "      <td>10.JPG</td>\n",
              "    </tr>\n",
              "    <tr>\n",
              "      <th>2</th>\n",
              "      <td>11.JPG</td>\n",
              "    </tr>\n",
              "    <tr>\n",
              "      <th>3</th>\n",
              "      <td>15.JPG</td>\n",
              "    </tr>\n",
              "    <tr>\n",
              "      <th>4</th>\n",
              "      <td>17.JPG</td>\n",
              "    </tr>\n",
              "    <tr>\n",
              "      <th>...</th>\n",
              "      <td>...</td>\n",
              "    </tr>\n",
              "    <tr>\n",
              "      <th>3765</th>\n",
              "      <td>12555.JPG</td>\n",
              "    </tr>\n",
              "    <tr>\n",
              "      <th>3766</th>\n",
              "      <td>12560.JPG</td>\n",
              "    </tr>\n",
              "    <tr>\n",
              "      <th>3767</th>\n",
              "      <td>12562.JPG</td>\n",
              "    </tr>\n",
              "    <tr>\n",
              "      <th>3768</th>\n",
              "      <td>12565.JPG</td>\n",
              "    </tr>\n",
              "    <tr>\n",
              "      <th>3769</th>\n",
              "      <td>12566.JPG</td>\n",
              "    </tr>\n",
              "  </tbody>\n",
              "</table>\n",
              "<p>3770 rows × 1 columns</p>\n",
              "</div>"
            ],
            "text/plain": [
              "        ImageId\n",
              "0         4.JPG\n",
              "1        10.JPG\n",
              "2        11.JPG\n",
              "3        15.JPG\n",
              "4        17.JPG\n",
              "...         ...\n",
              "3765  12555.JPG\n",
              "3766  12560.JPG\n",
              "3767  12562.JPG\n",
              "3768  12565.JPG\n",
              "3769  12566.JPG\n",
              "\n",
              "[3770 rows x 1 columns]"
            ]
          },
          "metadata": {
            "tags": []
          },
          "execution_count": 6
        }
      ]
    },
    {
      "cell_type": "code",
      "metadata": {
        "id": "q65vwxsLVgN2",
        "colab_type": "code",
        "colab": {}
      },
      "source": [
        "\"\"\"remove_model = load_model('/content/hw3_data_raw/model_predict_no_defect.h5')\n",
        "remove_model.summary()\"\"\""
      ],
      "execution_count": 0,
      "outputs": []
    },
    {
      "cell_type": "code",
      "metadata": {
        "id": "VJ2rmrfhgJn9",
        "colab_type": "code",
        "colab": {}
      },
      "source": [
        "def build_model():\n",
        "    densenet = DenseNet121(\n",
        "        include_top=False,\n",
        "        input_shape=(256,256,3),\n",
        "        weights='/content/hw3_data_raw/DenseNet-BC-121-32-no-top.h5'\n",
        "    )\n",
        "    \n",
        "    model = Sequential()\n",
        "    model.add(densenet)\n",
        "    model.add(layers.GlobalAveragePooling2D())\n",
        "    model.add(layers.BatchNormalization())\n",
        "    model.add(layers.Dropout(0.5))\n",
        "    model.add(layers.Dense(512, activation='relu'))\n",
        "    model.add(layers.BatchNormalization())\n",
        "    model.add(layers.Dropout(0.5))\n",
        "    model.add(layers.Dense(1, activation='sigmoid'))\n",
        "    \n",
        "    model.compile(\n",
        "        loss='binary_crossentropy',\n",
        "        optimizer=Nadam(),\n",
        "        metrics=['accuracy']\n",
        "    )\n",
        "    \n",
        "    return model"
      ],
      "execution_count": 0,
      "outputs": []
    },
    {
      "cell_type": "code",
      "metadata": {
        "id": "Euj_HlJmgRQE",
        "colab_type": "code",
        "outputId": "4b56301b-557a-40b8-ac53-fc1f9219bdee",
        "colab": {
          "base_uri": "https://localhost:8080/",
          "height": 432
        }
      },
      "source": [
        "model = build_model()\n",
        "model.summary()"
      ],
      "execution_count": 0,
      "outputs": [
        {
          "output_type": "stream",
          "text": [
            "Model: \"sequential_1\"\n",
            "_________________________________________________________________\n",
            "Layer (type)                 Output Shape              Param #   \n",
            "=================================================================\n",
            "densenet121 (Model)          (None, 8, 8, 1024)        7037504   \n",
            "_________________________________________________________________\n",
            "global_average_pooling2d_1 ( (None, 1024)              0         \n",
            "_________________________________________________________________\n",
            "batch_normalization_1 (Batch (None, 1024)              4096      \n",
            "_________________________________________________________________\n",
            "dropout_1 (Dropout)          (None, 1024)              0         \n",
            "_________________________________________________________________\n",
            "dense_1 (Dense)              (None, 512)               524800    \n",
            "_________________________________________________________________\n",
            "batch_normalization_2 (Batch (None, 512)               2048      \n",
            "_________________________________________________________________\n",
            "dropout_2 (Dropout)          (None, 512)               0         \n",
            "_________________________________________________________________\n",
            "dense_2 (Dense)              (None, 1)                 513       \n",
            "=================================================================\n",
            "Total params: 7,568,961\n",
            "Trainable params: 7,482,241\n",
            "Non-trainable params: 86,720\n",
            "_________________________________________________________________\n"
          ],
          "name": "stdout"
        }
      ]
    },
    {
      "cell_type": "code",
      "metadata": {
        "id": "vL-U6h2HfUk6",
        "colab_type": "code",
        "outputId": "edc6d3c6-342d-4755-a2e5-c0f8b17635cd",
        "colab": {
          "base_uri": "https://localhost:8080/",
          "height": 52
        }
      },
      "source": [
        "BATCH_SIZE = 32\n",
        "\n",
        "def create_datagen():\n",
        "    return ImageDataGenerator(\n",
        "        rescale=1/255.,\n",
        "        validation_split=0.15,\n",
        "\n",
        "        rotation_range=10,\n",
        "        height_shift_range=0.1,\n",
        "        width_shift_range=0.1,\n",
        "        horizontal_flip=True,\n",
        "        vertical_flip=True,\n",
        "        zoom_range=0.1,\n",
        "        fill_mode='constant',\n",
        "        cval=0.\n",
        "    )\n",
        "\n",
        "def create_flow(datagen, subset):\n",
        "    return datagen.flow_from_dataframe(\n",
        "        train_df_gp, \n",
        "        directory='/content/hw3_data_raw/train_images',\n",
        "        x_col='ImageId', \n",
        "        y_col='allMissing', \n",
        "        class_mode=\"raw\",\n",
        "        target_size=(256, 256),\n",
        "        batch_size=BATCH_SIZE,\n",
        "        subset=subset\n",
        "    )\n",
        "\n",
        "# Using original generator\n",
        "data_generator = create_datagen()\n",
        "train_gen = create_flow(data_generator, 'training')\n",
        "val_gen = create_flow(data_generator, 'validation')"
      ],
      "execution_count": 0,
      "outputs": [
        {
          "output_type": "stream",
          "text": [
            "Found 7479 validated image filenames.\n",
            "Found 1319 validated image filenames.\n"
          ],
          "name": "stdout"
        }
      ]
    },
    {
      "cell_type": "code",
      "metadata": {
        "id": "-pzCV6mlgvkI",
        "colab_type": "code",
        "colab": {}
      },
      "source": [
        "total_steps = train_df_gp.shape[0] / BATCH_SIZE\n",
        "\n",
        "checkpoint = ModelCheckpoint(\n",
        "    '/content/genre_train_model.h5', \n",
        "    monitor='val_accuracy', \n",
        "    verbose=1, \n",
        "    save_best_only=True, \n",
        "    save_weights_only=False,\n",
        "    mode='auto'\n",
        ")\n",
        "\n",
        "reduce_lr = ReduceLROnPlateau(\n",
        "    monitor='val_loss',\n",
        "    patience=5,\n",
        "    verbose=1,\n",
        "    min_lr=1e-6\n",
        ")\n",
        "\n",
        "history = model.fit_generator(\n",
        "    train_gen,\n",
        "    steps_per_epoch=total_steps * 0.85,\n",
        "    validation_data=val_gen,\n",
        "    validation_steps=total_steps * 0.15,\n",
        "    epochs=40,\n",
        "    callbacks=[checkpoint, reduce_lr]\n",
        ")"
      ],
      "execution_count": 0,
      "outputs": []
    },
    {
      "cell_type": "code",
      "metadata": {
        "id": "dJRlmdbTg0Tp",
        "colab_type": "code",
        "colab": {}
      },
      "source": [
        "history_df = pd.DataFrame(history.history)\n",
        "history_df[['loss', 'val_loss']].plot()\n",
        "history_df[['acc', 'val_acc']].plot()"
      ],
      "execution_count": 0,
      "outputs": []
    },
    {
      "cell_type": "code",
      "metadata": {
        "id": "pfvtWDpLVnQw",
        "colab_type": "code",
        "colab": {}
      },
      "source": [
        "BATCH_SIZE = 50\n",
        "\n",
        "def create_test_gen():\n",
        "    return ImageDataGenerator(rescale=1/255.).flow_from_dataframe(\n",
        "        test_df_gp,\n",
        "        directory='/content/hw3_data_raw/test_images',\n",
        "        x_col='ImageId',\n",
        "        class_mode=None,\n",
        "        target_size=(256, 256),\n",
        "        batch_size=BATCH_SIZE,\n",
        "        shuffle=False\n",
        "    )\n",
        "\n",
        "test_gen = create_test_gen()\n",
        "\n",
        "model.load_weights('/content/genre_train_model.h5')\n",
        "\n",
        "test_nondefect_pred = remove_model.predict_generator(\n",
        "    test_gen,\n",
        "    steps=len(test_gen),\n",
        "    verbose=1\n",
        ")\n",
        "\n",
        "test_df_gp['allMissing'] = test_nondefect_pred\n",
        "test_df_gp.head()\n",
        "print(test_df_gp.shape)"
      ],
      "execution_count": 0,
      "outputs": []
    },
    {
      "cell_type": "code",
      "metadata": {
        "id": "aDbFT6SJYHPX",
        "colab_type": "code",
        "colab": {}
      },
      "source": [
        "print(test_df_gp['allMissing'].mean())\n",
        "print(test_df_gp['allMissing'].min())\n",
        "print(test_df_gp['allMissing'].max())"
      ],
      "execution_count": 0,
      "outputs": []
    },
    {
      "cell_type": "code",
      "metadata": {
        "id": "kV3_J3CBVnxC",
        "colab_type": "code",
        "colab": {}
      },
      "source": [
        "test_defect_df = test_df_gp[test_df_gp['allMissing'] < 0.5] #>0.5 means no defect\n",
        "\n",
        "test_defect_df.reset_index(drop=True, inplace=True)\n",
        "\n",
        "print(test_defect_df.shape)\n",
        "test_defect_df.head()"
      ],
      "execution_count": 0,
      "outputs": []
    },
    {
      "cell_type": "code",
      "metadata": {
        "id": "n7k6KJNbVrYj",
        "colab_type": "code",
        "colab": {}
      },
      "source": [
        "def mask2rle(img):\n",
        "    '''\n",
        "    img: numpy array, 1 - mask, 0 - background\n",
        "    Returns run length as string formated\n",
        "    '''\n",
        "    pixels= img.T.flatten()\n",
        "    pixels = np.concatenate([[0], pixels, [0]])\n",
        "    runs = np.where(pixels[1:] != pixels[:-1])[0] + 1\n",
        "    runs[1::2] -= runs[::2]\n",
        "    return ' '.join(str(x) for x in runs)\n",
        "\n",
        "\n",
        "def build_rles(masks):\n",
        "    width, height, depth = masks.shape\n",
        "    \n",
        "    rles = [mask2rle(masks[:, :, i])\n",
        "            for i in range(depth)]\n",
        "    \n",
        "    return rles\n",
        "\n",
        "\n",
        "\"\"\"\"\"\"\n",
        "\n",
        "\n",
        "def rle2mask(rle, input_shape):\n",
        "    width, height = input_shape[:2]\n",
        "    \n",
        "    mask= np.zeros( width*height ).astype(np.uint8)\n",
        "    \n",
        "    array = np.asarray([int(x) for x in rle.split()])\n",
        "    starts = array[0::2]\n",
        "    lengths = array[1::2]\n",
        "\n",
        "    current_position = 0\n",
        "    for index, start in enumerate(starts):\n",
        "        mask[int(start):int(start+lengths[index])] = 1\n",
        "        current_position += lengths[index]\n",
        "        \n",
        "    return mask.reshape(height, width).T\n",
        "\n",
        "\n",
        "def build_masks(rles, input_shape):\n",
        "    depth = 4\n",
        "    masks = np.zeros((*input_shape, depth))\n",
        "    \n",
        "    for i, rle in enumerate(rles):\n",
        "        if (rle != 0):\n",
        "            masks[:, :, i] = rle2mask(rle, input_shape)\n",
        "\n",
        "    return masks"
      ],
      "execution_count": 0,
      "outputs": []
    },
    {
      "cell_type": "code",
      "metadata": {
        "id": "UxmuSl1XVtRK",
        "colab_type": "code",
        "colab": {}
      },
      "source": [
        "class DataGenerator(keras.utils.Sequence):\n",
        "    'Generates data for Keras'\n",
        "    def __init__(self, base_path, IDs, target_df=None, mode='fit',\n",
        "                 batch_size=32, dim=(256, 1600), n_channels=1,\n",
        "                 n_classes=4, random_state=2020, shuffle=True):\n",
        "        self.dim = dim\n",
        "        self.batch_size = batch_size\n",
        "        self.mode = mode\n",
        "        self.IDs = IDs\n",
        "        self.base_path = base_path\n",
        "        self.target_df = target_df\n",
        "        self.n_channels = n_channels\n",
        "        self.n_classes = n_classes\n",
        "        self.shuffle = shuffle\n",
        "        self.random_state = random_state\n",
        "        \n",
        "        self.on_epoch_end()\n",
        "\n",
        "    def __len__(self):\n",
        "        'Denotes the number of batches per epoch'\n",
        "        return int(np.floor(len(self.IDs) / self.batch_size))\n",
        "\n",
        "    def __getitem__(self, index):\n",
        "        'Generate one batch of data'\n",
        "        # Generate indexes of the batch\n",
        "        indexes = self.indexes[index*self.batch_size : (index+1)*self.batch_size]\n",
        "\n",
        "        # Find list of IDs\n",
        "        IDs_batch = [self.IDs[k] for k in indexes]\n",
        "        \n",
        "        X = self.__generate_X(IDs_batch)\n",
        "        \n",
        "        if self.mode == 'fit':\n",
        "            y = self.__generate_y(IDs_batch)\n",
        "            return X, y\n",
        "        \n",
        "        elif self.mode == 'predict':\n",
        "            return X\n",
        "\n",
        "        else:\n",
        "            raise AttributeError('The mode parameter should be set to \"fit\" or \"predict\".')\n",
        "        \n",
        "    def on_epoch_end(self):\n",
        "        'Updates indexes after each epoch'\n",
        "        self.indexes = np.arange(len(self.IDs))\n",
        "        if self.shuffle == True:\n",
        "            np.random.seed(self.random_state)\n",
        "            np.random.shuffle(self.indexes)\n",
        "    \n",
        "    def __generate_X(self, IDs_batch):\n",
        "        'Generates data containing batch_size samples'\n",
        "        # Initialization\n",
        "        X = np.empty((self.batch_size, *self.dim, self.n_channels))\n",
        "        \n",
        "        # Generate data\n",
        "        for i, ID in enumerate(IDs_batch):\n",
        "            im_name = str(ID)+\".JPG\"\n",
        "            img_path = f\"{self.base_path}/{im_name}\"\n",
        "            img = self.__load_grayscale(img_path)\n",
        "            \n",
        "            # Store samples\n",
        "            X[i,] = img\n",
        "\n",
        "        return X\n",
        "    \n",
        "    def __generate_y(self, IDs_batch):\n",
        "        y = np.empty((self.batch_size, *self.dim, self.n_classes), dtype=int)\n",
        "        \n",
        "        for i, ID in enumerate(IDs_batch):\n",
        "            im_name = ID\n",
        "            image_df = self.target_df[self.target_df['ImageId'] == im_name]\n",
        "            im_id = image_df['ClassId'].values\n",
        "            rles = image_df['EncodedPixels'].values\n",
        "\n",
        "            defect_list = [0,0,0,0]\n",
        "            for num, encode in zip(im_id, rles):\n",
        "                if type(encode) is str:\n",
        "                    defect_list[num-1] = encode\n",
        "\n",
        "            masks = build_masks(defect_list, input_shape=self.dim)\n",
        "            \n",
        "            y[i, ] = masks\n",
        "\n",
        "        return y\n",
        "    \n",
        "    def __load_grayscale(self, img_path):\n",
        "        img = cv2.imread(img_path, cv2.IMREAD_GRAYSCALE)\n",
        "        img = img.astype(np.float32) / 255.\n",
        "        img = np.expand_dims(img, axis=-1)\n",
        "\n",
        "        return img"
      ],
      "execution_count": 0,
      "outputs": []
    },
    {
      "cell_type": "code",
      "metadata": {
        "id": "nWCWAH0QV1lq",
        "colab_type": "code",
        "colab": {}
      },
      "source": [
        "defect_df.dtypes"
      ],
      "execution_count": 0,
      "outputs": []
    },
    {
      "cell_type": "code",
      "metadata": {
        "id": "hChirMz4V3AR",
        "colab_type": "code",
        "colab": {}
      },
      "source": [
        "def dice_coef(y_true, y_pred, smooth=1):\n",
        "    y_true_f = K.flatten(y_true)\n",
        "    y_pred_f = K.flatten(y_pred)\n",
        "    intersection = K.sum(y_true_f * y_pred_f)\n",
        "    return (2. * intersection + smooth) / (K.sum(y_true_f) + K.sum(y_pred_f) + smooth)\n",
        "\n",
        "\n",
        "genre_model = load_model(\n",
        "                        \"/content/hw3_data_raw/model_for_genre.h5\",\n",
        "                        custom_objects={'dice_coef': dice_coef})\n",
        "\n",
        "\n",
        "genre_model.trainable = True\n",
        "set_weight = False\n",
        "for i, layer in enumerate(genre_model.layers):\n",
        "    if(1)):#3 6 9 12 15 17 19 23 \"27\" 31 35\n",
        "        set_weight = True\n",
        "\n",
        "    if set_weight:\n",
        "        layer.trainable = True\n",
        "    else:\n",
        "        layer.trainable = False\n",
        "\n",
        "genre_model.compile(optimizer='adam', loss='binary_crossentropy', metrics=[dice_coef])"
      ],
      "execution_count": 0,
      "outputs": []
    },
    {
      "cell_type": "code",
      "metadata": {
        "id": "bHhqGX1kV4Zd",
        "colab_type": "code",
        "colab": {}
      },
      "source": [
        "genre_model.summary()"
      ],
      "execution_count": 0,
      "outputs": []
    },
    {
      "cell_type": "code",
      "metadata": {
        "id": "8YfgVxfoV4zM",
        "colab_type": "code",
        "colab": {}
      },
      "source": [
        "BATCH_SIZE = 25\n",
        "\n",
        "train_id, val_id = train_test_split(\n",
        "    defect_df_gp[\"ImageId\"].tolist(),  # name for imageid\n",
        "    random_state=2020, \n",
        "    test_size=0.1\n",
        ")\n",
        "\n",
        "train_generator = DataGenerator(\n",
        "    base_path='/content/hw3_data_raw/train_images',\n",
        "    IDs = train_id,\n",
        "    target_df=defect_df,\n",
        "    batch_size=BATCH_SIZE, \n",
        "    n_classes=4\n",
        ")\n",
        "\n",
        "val_generator = DataGenerator(\n",
        "    base_path='/content/hw3_data_raw/train_images',\n",
        "    IDs = val_id, \n",
        "    target_df=defect_df,\n",
        "    batch_size=BATCH_SIZE, \n",
        "    n_classes=4\n",
        ")"
      ],
      "execution_count": 0,
      "outputs": []
    },
    {
      "cell_type": "code",
      "metadata": {
        "id": "W5Mvt3ohV6Xf",
        "colab_type": "code",
        "colab": {}
      },
      "source": [
        "checkpoint = ModelCheckpoint(\n",
        "    'outcome_model.h5', \n",
        "    monitor='val_loss', \n",
        "    verbose=0, \n",
        "    save_best_only=True, \n",
        "    save_weights_only=False,\n",
        "    mode='auto'\n",
        ")\n",
        "\n",
        "history = genre_model.fit_generator(\n",
        "    train_generator,\n",
        "    validation_data=val_generator,\n",
        "    use_multiprocessing=1,\n",
        "    workers=1,\n",
        "    epochs=10\n",
        ")"
      ],
      "execution_count": 0,
      "outputs": []
    },
    {
      "cell_type": "code",
      "metadata": {
        "id": "Mkx1VNr5V_aq",
        "colab_type": "code",
        "colab": {}
      },
      "source": [
        "history_df = pd.DataFrame(history.history)\n",
        "history_df[['loss', 'val_loss']].plot()\n",
        "history_df[['dice_coef', 'val_dice_coef']].plot()"
      ],
      "execution_count": 0,
      "outputs": []
    },
    {
      "cell_type": "code",
      "metadata": {
        "id": "9xfL1Wbfr1lU",
        "colab_type": "code",
        "colab": {}
      },
      "source": [
        "test_defect_df[\"ImageId\"] = test_defect_df[\"ImageId\"].apply(lambda x: int(x.split(\".\")[0]))\n",
        "test_defect_df"
      ],
      "execution_count": 0,
      "outputs": []
    },
    {
      "cell_type": "code",
      "metadata": {
        "id": "33lYtb-kmsa1",
        "colab_type": "code",
        "colab": {}
      },
      "source": [
        "test_sub = test_defect_df.copy().drop(\"allMissing\", axis=1)\n",
        "test_sub = test_sub.loc[test_sub.index.repeat(4)]\n",
        "test_sub[\"ClassId\"] = [ ((i%4)+1) for i in range(len(test_sub))]\n",
        "test_sub.reset_index(drop=True, inplace=True)\n",
        "test_sub[\"EncodedPixels\"] = np.nan\n",
        "test_sub"
      ],
      "execution_count": 0,
      "outputs": []
    },
    {
      "cell_type": "code",
      "metadata": {
        "id": "xIhPyBL7V75x",
        "colab_type": "code",
        "colab": {}
      },
      "source": [
        "#genre_model.load_weights('/content/hw3_data_raw/outcome_model.h5')\n",
        "\n",
        "test_df = []\n",
        "whole_test_id_list = test_defect_df[\"ImageId\"].tolist()\n",
        "\n",
        "for i in range(0, test_defect_df.shape[0], 300):\n",
        "    batch_id = whole_test_id_list[i : min(test_defect_df.shape[0], i + 300)]\n",
        "    \n",
        "    test_generator = DataGenerator(\n",
        "                IDs = batch_id,\n",
        "                target_df = test_sub,\n",
        "                base_path='/content/hw3_data_raw/test_images',\n",
        "                mode='predict',\n",
        "\n",
        "                batch_size=1,\n",
        "                n_classes=4,\n",
        "                shuffle=False,   \n",
        "    )\n",
        "    \n",
        "    batch_pred_masks = genre_model.predict_generator(\n",
        "        test_generator, \n",
        "        workers=1,\n",
        "        verbose=1,\n",
        "        use_multiprocessing=False\n",
        "    )\n",
        "    \n",
        "    for j, b in tqdm(enumerate(batch_id)):\n",
        "        image_df = test_sub[test_sub['ImageId'] == b].copy()\n",
        "        \n",
        "        pred_masks = batch_pred_masks[j, ].round().astype(int)\n",
        "        pred_rles = build_rles(pred_masks)\n",
        "        \n",
        "        image_df['EncodedPixels'] = pred_rles\n",
        "        test_df.append(image_df)"
      ],
      "execution_count": 0,
      "outputs": []
    },
    {
      "cell_type": "code",
      "metadata": {
        "id": "FhuXm07Yvdny",
        "colab_type": "code",
        "colab": {}
      },
      "source": [
        "test_df = pd.concat(test_df)\n",
        "test_withvalue_df = test_df[test_df['EncodedPixels'] != \"\"]\n",
        "print(test_withvalue_df.shape)\n",
        "test_withvalue_df.head()"
      ],
      "execution_count": 0,
      "outputs": []
    },
    {
      "cell_type": "code",
      "metadata": {
        "id": "fALi-qxyyg4o",
        "colab_type": "code",
        "colab": {}
      },
      "source": [
        "test_withvalue_df.to_csv('Submission.csv', index=False)"
      ],
      "execution_count": 0,
      "outputs": []
    }
  ]
}