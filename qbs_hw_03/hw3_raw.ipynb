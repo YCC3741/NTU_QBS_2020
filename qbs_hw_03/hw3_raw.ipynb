{
  "nbformat": 4,
  "nbformat_minor": 0,
  "metadata": {
    "colab": {
      "name": "hw3_raw.ipynb",
      "provenance": [],
      "collapsed_sections": [],
      "machine_shape": "hm"
    },
    "kernelspec": {
      "name": "python3",
      "display_name": "Python 3"
    },
    "accelerator": "GPU"
  },
  "cells": [
    {
      "cell_type": "code",
      "metadata": {
        "id": "_fPP8bmg_m6q",
        "colab_type": "code",
        "outputId": "0505d3a0-488a-4fa7-bcb2-9cd7878e5f25",
        "colab": {
          "base_uri": "https://localhost:8080/",
          "height": 55
        }
      },
      "source": [
        "from google.colab import drive\n",
        "drive.mount('/content/gdrive/')"
      ],
      "execution_count": 1,
      "outputs": [
        {
          "output_type": "stream",
          "text": [
            "Drive already mounted at /content/gdrive/; to attempt to forcibly remount, call drive.mount(\"/content/gdrive/\", force_remount=True).\n"
          ],
          "name": "stdout"
        }
      ]
    },
    {
      "cell_type": "code",
      "metadata": {
        "id": "AZwJkkTbVWpr",
        "colab_type": "code",
        "outputId": "04ca609e-b8e3-4084-d8dc-4f9b5c17f64e",
        "colab": {
          "base_uri": "https://localhost:8080/",
          "height": 89
        }
      },
      "source": [
        "from zipfile import ZipFile\n",
        "import pandas as pd\n",
        "import numpy as np # linear algebra\n",
        "import matplotlib.pyplot as plt\n",
        "import tensorflow as tf\n",
        "import seaborn as sns\n",
        "\n",
        "import os\n",
        "import json\n",
        "\n",
        "import cv2\n",
        "from tqdm import tqdm\n",
        "\n",
        "from sklearn.model_selection import train_test_split\n",
        "\n",
        "import keras\n",
        "from keras import layers\n",
        "from keras.applications import DenseNet121\n",
        "from keras.callbacks import Callback, ModelCheckpoint, ReduceLROnPlateau\n",
        "from keras.preprocessing.image import ImageDataGenerator\n",
        "from keras.models import Sequential\n",
        "from keras.optimizers import Adam, Nadam\n",
        "from keras import backend as K\n",
        "from keras.models import Model, load_model\n",
        "from keras.layers import Input\n",
        "from keras.layers.convolutional import Conv2D, Conv2DTranspose\n",
        "from keras.layers.pooling import MaxPooling2D\n",
        "from keras.layers.merge import concatenate\n",
        "from keras import models"
      ],
      "execution_count": 2,
      "outputs": [
        {
          "output_type": "stream",
          "text": [
            "/usr/local/lib/python3.6/dist-packages/statsmodels/tools/_testing.py:19: FutureWarning: pandas.util.testing is deprecated. Use the functions in the public API at pandas.testing instead.\n",
            "  import pandas.util.testing as tm\n",
            "Using TensorFlow backend.\n"
          ],
          "name": "stderr"
        }
      ]
    },
    {
      "cell_type": "code",
      "metadata": {
        "id": "AstSZV2DWhDG",
        "colab_type": "code",
        "colab": {}
      },
      "source": [
        "'''!cp -r \"/content/gdrive/My Drive/hw3_data_raw\" \"/content/hw3_data_raw\"'''"
      ],
      "execution_count": 0,
      "outputs": []
    },
    {
      "cell_type": "code",
      "metadata": {
        "id": "md5zgnWoVY6U",
        "colab_type": "code",
        "outputId": "ea50d246-695a-42fb-dbb1-f33ee199610a",
        "colab": {
          "base_uri": "https://localhost:8080/",
          "height": 215
        }
      },
      "source": [
        "defect_df = pd.read_csv('/content/hw3_data_raw/train.csv')\n",
        "\n",
        "print(defect_df.shape)\n",
        "defect_df.head()"
      ],
      "execution_count": 3,
      "outputs": [
        {
          "output_type": "stream",
          "text": [
            "(4985, 3)\n"
          ],
          "name": "stdout"
        },
        {
          "output_type": "execute_result",
          "data": {
            "text/html": [
              "<div>\n",
              "<style scoped>\n",
              "    .dataframe tbody tr th:only-of-type {\n",
              "        vertical-align: middle;\n",
              "    }\n",
              "\n",
              "    .dataframe tbody tr th {\n",
              "        vertical-align: top;\n",
              "    }\n",
              "\n",
              "    .dataframe thead th {\n",
              "        text-align: right;\n",
              "    }\n",
              "</style>\n",
              "<table border=\"1\" class=\"dataframe\">\n",
              "  <thead>\n",
              "    <tr style=\"text-align: right;\">\n",
              "      <th></th>\n",
              "      <th>ImageId</th>\n",
              "      <th>ClassId</th>\n",
              "      <th>EncodedPixels</th>\n",
              "    </tr>\n",
              "  </thead>\n",
              "  <tbody>\n",
              "    <tr>\n",
              "      <th>0</th>\n",
              "      <td>1</td>\n",
              "      <td>1</td>\n",
              "      <td>29102 12 29346 24 29602 24 29858 24 30114 24 3...</td>\n",
              "    </tr>\n",
              "    <tr>\n",
              "      <th>1</th>\n",
              "      <td>5</td>\n",
              "      <td>3</td>\n",
              "      <td>18661 28 18863 82 19091 110 19347 110 19603 11...</td>\n",
              "    </tr>\n",
              "    <tr>\n",
              "      <th>2</th>\n",
              "      <td>6</td>\n",
              "      <td>1</td>\n",
              "      <td>37607 3 37858 8 38108 14 38359 20 38610 25 388...</td>\n",
              "    </tr>\n",
              "    <tr>\n",
              "      <th>3</th>\n",
              "      <td>7</td>\n",
              "      <td>4</td>\n",
              "      <td>131973 1 132228 4 132483 6 132738 8 132993 11 ...</td>\n",
              "    </tr>\n",
              "    <tr>\n",
              "      <th>4</th>\n",
              "      <td>8</td>\n",
              "      <td>3</td>\n",
              "      <td>229501 11 229741 33 229981 55 230221 77 230468...</td>\n",
              "    </tr>\n",
              "  </tbody>\n",
              "</table>\n",
              "</div>"
            ],
            "text/plain": [
              "   ImageId  ClassId                                      EncodedPixels\n",
              "0        1        1  29102 12 29346 24 29602 24 29858 24 30114 24 3...\n",
              "1        5        3  18661 28 18863 82 19091 110 19347 110 19603 11...\n",
              "2        6        1  37607 3 37858 8 38108 14 38359 20 38610 25 388...\n",
              "3        7        4  131973 1 132228 4 132483 6 132738 8 132993 11 ...\n",
              "4        8        3  229501 11 229741 33 229981 55 230221 77 230468..."
            ]
          },
          "metadata": {
            "tags": []
          },
          "execution_count": 3
        }
      ]
    },
    {
      "cell_type": "code",
      "metadata": {
        "id": "_NQKmskcVa5t",
        "colab_type": "code",
        "outputId": "f8efe5bd-5068-4cff-f663-959c0a620b6a",
        "colab": {
          "base_uri": "https://localhost:8080/",
          "height": 407
        }
      },
      "source": [
        "defect_df_gp = defect_df.groupby(by='ImageId', axis=0).agg('sum').drop(\"ClassId\", axis=1)\n",
        "defect_df_gp.reset_index(inplace=True)\n",
        "defect_df_gp[\"allMissing\"] = 0\n",
        "\n",
        "train_name = sorted([int(name.split(\".\")[0]) for name in os.listdir('/content/hw3_data_raw/train_images')])\n",
        "defect_name = sorted(list(defect_df_gp[\"ImageId\"]))\n",
        "nondefect_name = sorted(list(set(train_name)-set(defect_name)))\n",
        "\n",
        "nondefect_df = pd.DataFrame(data={\"ImageId\": nondefect_name , \"allMissing\":1})\n",
        "\n",
        "train_df_gp = pd.concat([defect_df_gp, nondefect_df])\n",
        "train_df_gp = train_df_gp.sort_values(\"ImageId\")\n",
        "train_df_gp.reset_index(inplace=True)\n",
        "train_df_gp = train_df_gp.drop(\"index\", axis=1)\n",
        "train_df_gp[\"ImageId\"] = train_df_gp[\"ImageId\"].astype(\"str\")\n",
        "train_df_gp[\"ImageId\"] = train_df_gp[\"ImageId\"].apply(lambda x: \"{}.JPG\".format(x))\n",
        "train_df_gp"
      ],
      "execution_count": 4,
      "outputs": [
        {
          "output_type": "execute_result",
          "data": {
            "text/html": [
              "<div>\n",
              "<style scoped>\n",
              "    .dataframe tbody tr th:only-of-type {\n",
              "        vertical-align: middle;\n",
              "    }\n",
              "\n",
              "    .dataframe tbody tr th {\n",
              "        vertical-align: top;\n",
              "    }\n",
              "\n",
              "    .dataframe thead th {\n",
              "        text-align: right;\n",
              "    }\n",
              "</style>\n",
              "<table border=\"1\" class=\"dataframe\">\n",
              "  <thead>\n",
              "    <tr style=\"text-align: right;\">\n",
              "      <th></th>\n",
              "      <th>ImageId</th>\n",
              "      <th>allMissing</th>\n",
              "    </tr>\n",
              "  </thead>\n",
              "  <tbody>\n",
              "    <tr>\n",
              "      <th>0</th>\n",
              "      <td>1.JPG</td>\n",
              "      <td>0</td>\n",
              "    </tr>\n",
              "    <tr>\n",
              "      <th>1</th>\n",
              "      <td>2.JPG</td>\n",
              "      <td>1</td>\n",
              "    </tr>\n",
              "    <tr>\n",
              "      <th>2</th>\n",
              "      <td>3.JPG</td>\n",
              "      <td>1</td>\n",
              "    </tr>\n",
              "    <tr>\n",
              "      <th>3</th>\n",
              "      <td>5.JPG</td>\n",
              "      <td>0</td>\n",
              "    </tr>\n",
              "    <tr>\n",
              "      <th>4</th>\n",
              "      <td>6.JPG</td>\n",
              "      <td>0</td>\n",
              "    </tr>\n",
              "    <tr>\n",
              "      <th>...</th>\n",
              "      <td>...</td>\n",
              "      <td>...</td>\n",
              "    </tr>\n",
              "    <tr>\n",
              "      <th>8793</th>\n",
              "      <td>12561.JPG</td>\n",
              "      <td>0</td>\n",
              "    </tr>\n",
              "    <tr>\n",
              "      <th>8794</th>\n",
              "      <td>12563.JPG</td>\n",
              "      <td>1</td>\n",
              "    </tr>\n",
              "    <tr>\n",
              "      <th>8795</th>\n",
              "      <td>12564.JPG</td>\n",
              "      <td>1</td>\n",
              "    </tr>\n",
              "    <tr>\n",
              "      <th>8796</th>\n",
              "      <td>12567.JPG</td>\n",
              "      <td>0</td>\n",
              "    </tr>\n",
              "    <tr>\n",
              "      <th>8797</th>\n",
              "      <td>12568.JPG</td>\n",
              "      <td>0</td>\n",
              "    </tr>\n",
              "  </tbody>\n",
              "</table>\n",
              "<p>8798 rows × 2 columns</p>\n",
              "</div>"
            ],
            "text/plain": [
              "        ImageId  allMissing\n",
              "0         1.JPG           0\n",
              "1         2.JPG           1\n",
              "2         3.JPG           1\n",
              "3         5.JPG           0\n",
              "4         6.JPG           0\n",
              "...         ...         ...\n",
              "8793  12561.JPG           0\n",
              "8794  12563.JPG           1\n",
              "8795  12564.JPG           1\n",
              "8796  12567.JPG           0\n",
              "8797  12568.JPG           0\n",
              "\n",
              "[8798 rows x 2 columns]"
            ]
          },
          "metadata": {
            "tags": []
          },
          "execution_count": 4
        }
      ]
    },
    {
      "cell_type": "code",
      "metadata": {
        "id": "DBJt68-MVdCN",
        "colab_type": "code",
        "outputId": "16a00c6a-cf84-4972-f9a8-dfc84517f23f",
        "colab": {
          "base_uri": "https://localhost:8080/",
          "height": 407
        }
      },
      "source": [
        "defect_df_gp"
      ],
      "execution_count": 5,
      "outputs": [
        {
          "output_type": "execute_result",
          "data": {
            "text/html": [
              "<div>\n",
              "<style scoped>\n",
              "    .dataframe tbody tr th:only-of-type {\n",
              "        vertical-align: middle;\n",
              "    }\n",
              "\n",
              "    .dataframe tbody tr th {\n",
              "        vertical-align: top;\n",
              "    }\n",
              "\n",
              "    .dataframe thead th {\n",
              "        text-align: right;\n",
              "    }\n",
              "</style>\n",
              "<table border=\"1\" class=\"dataframe\">\n",
              "  <thead>\n",
              "    <tr style=\"text-align: right;\">\n",
              "      <th></th>\n",
              "      <th>ImageId</th>\n",
              "      <th>allMissing</th>\n",
              "    </tr>\n",
              "  </thead>\n",
              "  <tbody>\n",
              "    <tr>\n",
              "      <th>0</th>\n",
              "      <td>1</td>\n",
              "      <td>0</td>\n",
              "    </tr>\n",
              "    <tr>\n",
              "      <th>1</th>\n",
              "      <td>5</td>\n",
              "      <td>0</td>\n",
              "    </tr>\n",
              "    <tr>\n",
              "      <th>2</th>\n",
              "      <td>6</td>\n",
              "      <td>0</td>\n",
              "    </tr>\n",
              "    <tr>\n",
              "      <th>3</th>\n",
              "      <td>7</td>\n",
              "      <td>0</td>\n",
              "    </tr>\n",
              "    <tr>\n",
              "      <th>4</th>\n",
              "      <td>8</td>\n",
              "      <td>0</td>\n",
              "    </tr>\n",
              "    <tr>\n",
              "      <th>...</th>\n",
              "      <td>...</td>\n",
              "      <td>...</td>\n",
              "    </tr>\n",
              "    <tr>\n",
              "      <th>4677</th>\n",
              "      <td>12558</td>\n",
              "      <td>0</td>\n",
              "    </tr>\n",
              "    <tr>\n",
              "      <th>4678</th>\n",
              "      <td>12559</td>\n",
              "      <td>0</td>\n",
              "    </tr>\n",
              "    <tr>\n",
              "      <th>4679</th>\n",
              "      <td>12561</td>\n",
              "      <td>0</td>\n",
              "    </tr>\n",
              "    <tr>\n",
              "      <th>4680</th>\n",
              "      <td>12567</td>\n",
              "      <td>0</td>\n",
              "    </tr>\n",
              "    <tr>\n",
              "      <th>4681</th>\n",
              "      <td>12568</td>\n",
              "      <td>0</td>\n",
              "    </tr>\n",
              "  </tbody>\n",
              "</table>\n",
              "<p>4682 rows × 2 columns</p>\n",
              "</div>"
            ],
            "text/plain": [
              "      ImageId  allMissing\n",
              "0           1           0\n",
              "1           5           0\n",
              "2           6           0\n",
              "3           7           0\n",
              "4           8           0\n",
              "...       ...         ...\n",
              "4677    12558           0\n",
              "4678    12559           0\n",
              "4679    12561           0\n",
              "4680    12567           0\n",
              "4681    12568           0\n",
              "\n",
              "[4682 rows x 2 columns]"
            ]
          },
          "metadata": {
            "tags": []
          },
          "execution_count": 5
        }
      ]
    },
    {
      "cell_type": "code",
      "metadata": {
        "id": "B3U6XjzeVfxt",
        "colab_type": "code",
        "outputId": "42e12d41-396a-46e0-94f2-052433cc6962",
        "colab": {
          "base_uri": "https://localhost:8080/",
          "height": 407
        }
      },
      "source": [
        "test_name = sorted([int(name.split(\".\")[0]) for name in os.listdir('/content/hw3_data_raw/test_images')])\n",
        "\n",
        "test_df_gp = pd.DataFrame(data={\"ImageId\": test_name})\n",
        "test_df_gp[\"ImageId\"] = test_df_gp[\"ImageId\"].astype(\"str\")\n",
        "test_df_gp[\"ImageId\"] = test_df_gp[\"ImageId\"].apply(lambda x: \"{}.JPG\".format(x))\n",
        "test_df_gp"
      ],
      "execution_count": 6,
      "outputs": [
        {
          "output_type": "execute_result",
          "data": {
            "text/html": [
              "<div>\n",
              "<style scoped>\n",
              "    .dataframe tbody tr th:only-of-type {\n",
              "        vertical-align: middle;\n",
              "    }\n",
              "\n",
              "    .dataframe tbody tr th {\n",
              "        vertical-align: top;\n",
              "    }\n",
              "\n",
              "    .dataframe thead th {\n",
              "        text-align: right;\n",
              "    }\n",
              "</style>\n",
              "<table border=\"1\" class=\"dataframe\">\n",
              "  <thead>\n",
              "    <tr style=\"text-align: right;\">\n",
              "      <th></th>\n",
              "      <th>ImageId</th>\n",
              "    </tr>\n",
              "  </thead>\n",
              "  <tbody>\n",
              "    <tr>\n",
              "      <th>0</th>\n",
              "      <td>4.JPG</td>\n",
              "    </tr>\n",
              "    <tr>\n",
              "      <th>1</th>\n",
              "      <td>10.JPG</td>\n",
              "    </tr>\n",
              "    <tr>\n",
              "      <th>2</th>\n",
              "      <td>11.JPG</td>\n",
              "    </tr>\n",
              "    <tr>\n",
              "      <th>3</th>\n",
              "      <td>15.JPG</td>\n",
              "    </tr>\n",
              "    <tr>\n",
              "      <th>4</th>\n",
              "      <td>17.JPG</td>\n",
              "    </tr>\n",
              "    <tr>\n",
              "      <th>...</th>\n",
              "      <td>...</td>\n",
              "    </tr>\n",
              "    <tr>\n",
              "      <th>3765</th>\n",
              "      <td>12555.JPG</td>\n",
              "    </tr>\n",
              "    <tr>\n",
              "      <th>3766</th>\n",
              "      <td>12560.JPG</td>\n",
              "    </tr>\n",
              "    <tr>\n",
              "      <th>3767</th>\n",
              "      <td>12562.JPG</td>\n",
              "    </tr>\n",
              "    <tr>\n",
              "      <th>3768</th>\n",
              "      <td>12565.JPG</td>\n",
              "    </tr>\n",
              "    <tr>\n",
              "      <th>3769</th>\n",
              "      <td>12566.JPG</td>\n",
              "    </tr>\n",
              "  </tbody>\n",
              "</table>\n",
              "<p>3770 rows × 1 columns</p>\n",
              "</div>"
            ],
            "text/plain": [
              "        ImageId\n",
              "0         4.JPG\n",
              "1        10.JPG\n",
              "2        11.JPG\n",
              "3        15.JPG\n",
              "4        17.JPG\n",
              "...         ...\n",
              "3765  12555.JPG\n",
              "3766  12560.JPG\n",
              "3767  12562.JPG\n",
              "3768  12565.JPG\n",
              "3769  12566.JPG\n",
              "\n",
              "[3770 rows x 1 columns]"
            ]
          },
          "metadata": {
            "tags": []
          },
          "execution_count": 6
        }
      ]
    },
    {
      "cell_type": "code",
      "metadata": {
        "id": "q65vwxsLVgN2",
        "colab_type": "code",
        "colab": {
          "base_uri": "https://localhost:8080/",
          "height": 35
        },
        "outputId": "b9c96c26-fa46-445f-ea35-add117392810"
      },
      "source": [
        "\"\"\"remove_model = load_model('/content/hw3_data_raw/model_predict_no_defect.h5')\n",
        "remove_model.summary()\"\"\""
      ],
      "execution_count": 11,
      "outputs": [
        {
          "output_type": "execute_result",
          "data": {
            "text/plain": [
              "\"remove_model = load_model('/content/hw3_data_raw/model_predict_no_defect.h5')\\nremove_model.summary()\""
            ]
          },
          "metadata": {
            "tags": []
          },
          "execution_count": 11
        }
      ]
    },
    {
      "cell_type": "code",
      "metadata": {
        "id": "VJ2rmrfhgJn9",
        "colab_type": "code",
        "colab": {}
      },
      "source": [
        "def build_model():\n",
        "    densenet = DenseNet121(\n",
        "        include_top=False,\n",
        "        input_shape=(256,256,3),\n",
        "        weights='/content/hw3_data_raw/DenseNet-BC-121-32-no-top.h5'\n",
        "    )\n",
        "    \n",
        "    model = Sequential()\n",
        "    model.add(densenet)\n",
        "    model.add(layers.GlobalAveragePooling2D())\n",
        "    model.add(layers.BatchNormalization())\n",
        "    model.add(layers.Dropout(0.5))\n",
        "    model.add(layers.Dense(512, activation='relu'))\n",
        "    model.add(layers.BatchNormalization())\n",
        "    model.add(layers.Dropout(0.5))\n",
        "    model.add(layers.Dense(1, activation='sigmoid'))\n",
        "    \n",
        "    model.compile(\n",
        "        loss='binary_crossentropy',\n",
        "        optimizer=Nadam(),\n",
        "        metrics=['accuracy']\n",
        "    )\n",
        "    \n",
        "    return model"
      ],
      "execution_count": 0,
      "outputs": []
    },
    {
      "cell_type": "code",
      "metadata": {
        "id": "Euj_HlJmgRQE",
        "colab_type": "code",
        "outputId": "ce8a8d0d-db52-4c08-c017-c0e9b5fe31eb",
        "colab": {
          "base_uri": "https://localhost:8080/",
          "height": 432
        }
      },
      "source": [
        "model = build_model()\n",
        "model.summary()"
      ],
      "execution_count": 8,
      "outputs": [
        {
          "output_type": "stream",
          "text": [
            "Model: \"sequential_1\"\n",
            "_________________________________________________________________\n",
            "Layer (type)                 Output Shape              Param #   \n",
            "=================================================================\n",
            "densenet121 (Model)          (None, 8, 8, 1024)        7037504   \n",
            "_________________________________________________________________\n",
            "global_average_pooling2d_1 ( (None, 1024)              0         \n",
            "_________________________________________________________________\n",
            "batch_normalization_1 (Batch (None, 1024)              4096      \n",
            "_________________________________________________________________\n",
            "dropout_1 (Dropout)          (None, 1024)              0         \n",
            "_________________________________________________________________\n",
            "dense_1 (Dense)              (None, 512)               524800    \n",
            "_________________________________________________________________\n",
            "batch_normalization_2 (Batch (None, 512)               2048      \n",
            "_________________________________________________________________\n",
            "dropout_2 (Dropout)          (None, 512)               0         \n",
            "_________________________________________________________________\n",
            "dense_2 (Dense)              (None, 1)                 513       \n",
            "=================================================================\n",
            "Total params: 7,568,961\n",
            "Trainable params: 7,482,241\n",
            "Non-trainable params: 86,720\n",
            "_________________________________________________________________\n"
          ],
          "name": "stdout"
        }
      ]
    },
    {
      "cell_type": "code",
      "metadata": {
        "id": "vL-U6h2HfUk6",
        "colab_type": "code",
        "outputId": "2164dae2-ffd7-464c-dce3-405cd0f9a8fc",
        "colab": {
          "base_uri": "https://localhost:8080/",
          "height": 52
        }
      },
      "source": [
        "BATCH_SIZE = 32\n",
        "\n",
        "def create_datagen():\n",
        "    return ImageDataGenerator(\n",
        "        rescale=1/255.,\n",
        "        validation_split=0.15,\n",
        "\n",
        "        rotation_range=10,\n",
        "        height_shift_range=0.1,\n",
        "        width_shift_range=0.1,\n",
        "        horizontal_flip=True,\n",
        "        vertical_flip=True,\n",
        "        zoom_range=0.1,\n",
        "        fill_mode='constant',\n",
        "        cval=0.\n",
        "    )\n",
        "\n",
        "def create_flow(datagen, subset):\n",
        "    return datagen.flow_from_dataframe(\n",
        "        train_df_gp, \n",
        "        directory='/content/hw3_data_raw/train_images',\n",
        "        x_col='ImageId', \n",
        "        y_col='allMissing', \n",
        "        class_mode=\"raw\",\n",
        "        target_size=(256, 256),\n",
        "        batch_size=BATCH_SIZE,\n",
        "        subset=subset\n",
        "    )\n",
        "\n",
        "# Using original generator\n",
        "data_generator = create_datagen()\n",
        "train_gen = create_flow(data_generator, 'training')\n",
        "val_gen = create_flow(data_generator, 'validation')"
      ],
      "execution_count": 14,
      "outputs": [
        {
          "output_type": "stream",
          "text": [
            "Found 7479 validated image filenames.\n",
            "Found 1319 validated image filenames.\n"
          ],
          "name": "stdout"
        }
      ]
    },
    {
      "cell_type": "code",
      "metadata": {
        "id": "-pzCV6mlgvkI",
        "colab_type": "code",
        "colab": {
          "base_uri": "https://localhost:8080/",
          "height": 1000
        },
        "outputId": "5a386add-5911-44e6-8f4c-2ee2f3232223"
      },
      "source": [
        "total_steps = train_df_gp.shape[0] / BATCH_SIZE\n",
        "\n",
        "checkpoint = ModelCheckpoint(\n",
        "    '/content/genre_train_model.h5', \n",
        "    monitor='val_accuracy', \n",
        "    verbose=1, \n",
        "    save_best_only=True, \n",
        "    save_weights_only=False,\n",
        "    mode='auto'\n",
        ")\n",
        "\n",
        "reduce_lr = ReduceLROnPlateau(\n",
        "    monitor='val_loss',\n",
        "    patience=5,\n",
        "    verbose=1,\n",
        "    min_lr=1e-6\n",
        ")\n",
        "\n",
        "history = model.fit_generator(\n",
        "    train_gen,\n",
        "    steps_per_epoch=total_steps * 0.85,\n",
        "    validation_data=val_gen,\n",
        "    validation_steps=total_steps * 0.15,\n",
        "    epochs=40,\n",
        "    callbacks=[checkpoint, reduce_lr]\n",
        ")"
      ],
      "execution_count": 18,
      "outputs": [
        {
          "output_type": "stream",
          "text": [
            "Epoch 1/40\n",
            "234/233 [==============================] - 569s 2s/step - loss: 0.3623 - accuracy: 0.8358 - val_loss: 1.0964 - val_accuracy: 0.7528\n",
            "\n",
            "Epoch 00001: val_accuracy improved from -inf to 0.75284, saving model to /content/genre_train_model.h5\n",
            "Epoch 2/40\n",
            "234/233 [==============================] - 494s 2s/step - loss: 0.3351 - accuracy: 0.8513 - val_loss: 0.0542 - val_accuracy: 0.7915\n",
            "\n",
            "Epoch 00002: val_accuracy improved from 0.75284 to 0.79151, saving model to /content/genre_train_model.h5\n",
            "Epoch 3/40\n",
            "234/233 [==============================] - 493s 2s/step - loss: 0.3299 - accuracy: 0.8543 - val_loss: 1.6773 - val_accuracy: 0.6187\n",
            "\n",
            "Epoch 00003: val_accuracy did not improve from 0.79151\n",
            "Epoch 4/40\n",
            "234/233 [==============================] - 493s 2s/step - loss: 0.3043 - accuracy: 0.8671 - val_loss: 0.8855 - val_accuracy: 0.6247\n",
            "\n",
            "Epoch 00004: val_accuracy did not improve from 0.79151\n",
            "Epoch 5/40\n",
            "234/233 [==============================] - 492s 2s/step - loss: 0.2936 - accuracy: 0.8708 - val_loss: 1.4312 - val_accuracy: 0.5398\n",
            "\n",
            "Epoch 00005: val_accuracy did not improve from 0.79151\n",
            "Epoch 6/40\n",
            "234/233 [==============================] - 493s 2s/step - loss: 0.2814 - accuracy: 0.8837 - val_loss: 0.5431 - val_accuracy: 0.7847\n",
            "\n",
            "Epoch 00006: val_accuracy did not improve from 0.79151\n",
            "Epoch 7/40\n",
            "234/233 [==============================] - 494s 2s/step - loss: 0.2774 - accuracy: 0.8833 - val_loss: 11.4472 - val_accuracy: 0.4822\n",
            "\n",
            "Epoch 00007: val_accuracy did not improve from 0.79151\n",
            "\n",
            "Epoch 00007: ReduceLROnPlateau reducing learning rate to 0.00020000000949949026.\n",
            "Epoch 8/40\n",
            "234/233 [==============================] - 495s 2s/step - loss: 0.2253 - accuracy: 0.9057 - val_loss: 0.0966 - val_accuracy: 0.9030\n",
            "\n",
            "Epoch 00008: val_accuracy improved from 0.79151 to 0.90296, saving model to /content/genre_train_model.h5\n",
            "Epoch 9/40\n",
            "234/233 [==============================] - 494s 2s/step - loss: 0.2171 - accuracy: 0.9110 - val_loss: 1.3653 - val_accuracy: 0.7324\n",
            "\n",
            "Epoch 00009: val_accuracy did not improve from 0.90296\n",
            "Epoch 10/40\n",
            "234/233 [==============================] - 495s 2s/step - loss: 0.2091 - accuracy: 0.9170 - val_loss: 0.3401 - val_accuracy: 0.8848\n",
            "\n",
            "Epoch 00010: val_accuracy did not improve from 0.90296\n",
            "Epoch 11/40\n",
            "234/233 [==============================] - 494s 2s/step - loss: 0.2107 - accuracy: 0.9126 - val_loss: 0.5308 - val_accuracy: 0.9083\n",
            "\n",
            "Epoch 00011: val_accuracy improved from 0.90296 to 0.90826, saving model to /content/genre_train_model.h5\n",
            "Epoch 12/40\n",
            "234/233 [==============================] - 494s 2s/step - loss: 0.1995 - accuracy: 0.9216 - val_loss: 0.2421 - val_accuracy: 0.8400\n",
            "\n",
            "Epoch 00012: val_accuracy did not improve from 0.90826\n",
            "\n",
            "Epoch 00012: ReduceLROnPlateau reducing learning rate to 2.0000000949949027e-05.\n",
            "Epoch 13/40\n",
            "234/233 [==============================] - 493s 2s/step - loss: 0.1975 - accuracy: 0.9212 - val_loss: 0.1021 - val_accuracy: 0.9212\n",
            "\n",
            "Epoch 00013: val_accuracy improved from 0.90826 to 0.92115, saving model to /content/genre_train_model.h5\n",
            "Epoch 14/40\n",
            "234/233 [==============================] - 493s 2s/step - loss: 0.1917 - accuracy: 0.9224 - val_loss: 0.7512 - val_accuracy: 0.9181\n",
            "\n",
            "Epoch 00014: val_accuracy did not improve from 0.92115\n",
            "Epoch 15/40\n",
            "234/233 [==============================] - 493s 2s/step - loss: 0.1944 - accuracy: 0.9231 - val_loss: 0.0295 - val_accuracy: 0.9310\n",
            "\n",
            "Epoch 00015: val_accuracy improved from 0.92115 to 0.93101, saving model to /content/genre_train_model.h5\n",
            "Epoch 16/40\n",
            "234/233 [==============================] - 493s 2s/step - loss: 0.1897 - accuracy: 0.9249 - val_loss: 0.3204 - val_accuracy: 0.9348\n",
            "\n",
            "Epoch 00016: val_accuracy improved from 0.93101 to 0.93480, saving model to /content/genre_train_model.h5\n",
            "Epoch 17/40\n",
            "234/233 [==============================] - 492s 2s/step - loss: 0.2052 - accuracy: 0.9186 - val_loss: 0.2283 - val_accuracy: 0.9310\n",
            "\n",
            "Epoch 00017: val_accuracy did not improve from 0.93480\n",
            "Epoch 18/40\n",
            "234/233 [==============================] - 493s 2s/step - loss: 0.1919 - accuracy: 0.9218 - val_loss: 0.6810 - val_accuracy: 0.9158\n",
            "\n",
            "Epoch 00018: val_accuracy did not improve from 0.93480\n",
            "Epoch 19/40\n",
            "234/233 [==============================] - 492s 2s/step - loss: 0.1938 - accuracy: 0.9247 - val_loss: 0.0177 - val_accuracy: 0.9318\n",
            "\n",
            "Epoch 00019: val_accuracy did not improve from 0.93480\n",
            "Epoch 20/40\n",
            "234/233 [==============================] - 492s 2s/step - loss: 0.1937 - accuracy: 0.9208 - val_loss: 0.2551 - val_accuracy: 0.9333\n",
            "\n",
            "Epoch 00020: val_accuracy did not improve from 0.93480\n",
            "Epoch 21/40\n",
            "234/233 [==============================] - 492s 2s/step - loss: 0.1945 - accuracy: 0.9239 - val_loss: 0.0115 - val_accuracy: 0.9265\n",
            "\n",
            "Epoch 00021: val_accuracy did not improve from 0.93480\n",
            "Epoch 22/40\n",
            "234/233 [==============================] - 493s 2s/step - loss: 0.1955 - accuracy: 0.9224 - val_loss: 0.0698 - val_accuracy: 0.9090\n",
            "\n",
            "Epoch 00022: val_accuracy did not improve from 0.93480\n",
            "Epoch 23/40\n",
            "234/233 [==============================] - 492s 2s/step - loss: 0.1895 - accuracy: 0.9263 - val_loss: 0.0452 - val_accuracy: 0.9219\n",
            "\n",
            "Epoch 00023: val_accuracy did not improve from 0.93480\n",
            "Epoch 24/40\n",
            "234/233 [==============================] - 493s 2s/step - loss: 0.1838 - accuracy: 0.9278 - val_loss: 0.0253 - val_accuracy: 0.9318\n",
            "\n",
            "Epoch 00024: val_accuracy did not improve from 0.93480\n",
            "Epoch 25/40\n",
            "234/233 [==============================] - 492s 2s/step - loss: 0.1896 - accuracy: 0.9243 - val_loss: 0.0074 - val_accuracy: 0.9318\n",
            "\n",
            "Epoch 00025: val_accuracy did not improve from 0.93480\n",
            "Epoch 26/40\n",
            "234/233 [==============================] - 492s 2s/step - loss: 0.1876 - accuracy: 0.9277 - val_loss: 0.0244 - val_accuracy: 0.9249\n",
            "\n",
            "Epoch 00026: val_accuracy did not improve from 0.93480\n",
            "Epoch 27/40\n",
            "234/233 [==============================] - 493s 2s/step - loss: 0.1908 - accuracy: 0.9239 - val_loss: 0.0400 - val_accuracy: 0.9295\n",
            "\n",
            "Epoch 00027: val_accuracy did not improve from 0.93480\n",
            "Epoch 28/40\n",
            "234/233 [==============================] - 493s 2s/step - loss: 0.1883 - accuracy: 0.9243 - val_loss: 0.3578 - val_accuracy: 0.9310\n",
            "\n",
            "Epoch 00028: val_accuracy did not improve from 0.93480\n",
            "Epoch 29/40\n",
            "234/233 [==============================] - 491s 2s/step - loss: 0.1847 - accuracy: 0.9266 - val_loss: 0.0323 - val_accuracy: 0.9318\n",
            "\n",
            "Epoch 00029: val_accuracy did not improve from 0.93480\n",
            "Epoch 30/40\n",
            "234/233 [==============================] - 492s 2s/step - loss: 0.1904 - accuracy: 0.9203 - val_loss: 0.0625 - val_accuracy: 0.9340\n",
            "\n",
            "Epoch 00030: val_accuracy did not improve from 0.93480\n",
            "\n",
            "Epoch 00030: ReduceLROnPlateau reducing learning rate to 2.0000001313746906e-06.\n",
            "Epoch 31/40\n",
            "234/233 [==============================] - 492s 2s/step - loss: 0.1919 - accuracy: 0.9242 - val_loss: 0.6404 - val_accuracy: 0.9295\n",
            "\n",
            "Epoch 00031: val_accuracy did not improve from 0.93480\n",
            "Epoch 32/40\n",
            "234/233 [==============================] - 492s 2s/step - loss: 0.1906 - accuracy: 0.9224 - val_loss: 0.0465 - val_accuracy: 0.9249\n",
            "\n",
            "Epoch 00032: val_accuracy did not improve from 0.93480\n",
            "Epoch 33/40\n",
            "234/233 [==============================] - 493s 2s/step - loss: 0.1802 - accuracy: 0.9277 - val_loss: 0.0213 - val_accuracy: 0.9287\n",
            "\n",
            "Epoch 00033: val_accuracy did not improve from 0.93480\n",
            "Epoch 34/40\n",
            "234/233 [==============================] - 493s 2s/step - loss: 0.1832 - accuracy: 0.9307 - val_loss: 0.1137 - val_accuracy: 0.9272\n",
            "\n",
            "Epoch 00034: val_accuracy did not improve from 0.93480\n",
            "Epoch 35/40\n",
            "234/233 [==============================] - 492s 2s/step - loss: 0.1766 - accuracy: 0.9291 - val_loss: 0.0191 - val_accuracy: 0.9310\n",
            "\n",
            "Epoch 00035: val_accuracy did not improve from 0.93480\n",
            "\n",
            "Epoch 00035: ReduceLROnPlateau reducing learning rate to 1e-06.\n",
            "Epoch 36/40\n",
            "234/233 [==============================] - 493s 2s/step - loss: 0.1912 - accuracy: 0.9237 - val_loss: 0.2458 - val_accuracy: 0.9318\n",
            "\n",
            "Epoch 00036: val_accuracy did not improve from 0.93480\n",
            "Epoch 37/40\n",
            "234/233 [==============================] - 493s 2s/step - loss: 0.1804 - accuracy: 0.9295 - val_loss: 0.0609 - val_accuracy: 0.9333\n",
            "\n",
            "Epoch 00037: val_accuracy did not improve from 0.93480\n",
            "Epoch 38/40\n",
            "234/233 [==============================] - 493s 2s/step - loss: 0.1955 - accuracy: 0.9237 - val_loss: 0.0409 - val_accuracy: 0.9303\n",
            "\n",
            "Epoch 00038: val_accuracy did not improve from 0.93480\n",
            "Epoch 39/40\n",
            "234/233 [==============================] - 493s 2s/step - loss: 0.1851 - accuracy: 0.9282 - val_loss: 0.0387 - val_accuracy: 0.9287\n",
            "\n",
            "Epoch 00039: val_accuracy did not improve from 0.93480\n",
            "Epoch 40/40\n",
            "234/233 [==============================] - 493s 2s/step - loss: 0.1900 - accuracy: 0.9211 - val_loss: 0.0599 - val_accuracy: 0.9310\n",
            "\n",
            "Epoch 00040: val_accuracy did not improve from 0.93480\n"
          ],
          "name": "stdout"
        }
      ]
    },
    {
      "cell_type": "code",
      "metadata": {
        "id": "dJRlmdbTg0Tp",
        "colab_type": "code",
        "colab": {
          "base_uri": "https://localhost:8080/",
          "height": 535
        },
        "outputId": "7e21c8e9-ccc6-4f6a-a0d9-6bdd9082b8dc"
      },
      "source": [
        "history_df = pd.DataFrame(history.history)\n",
        "history_df[['loss', 'val_loss']].plot()\n",
        "history_df[['accuracy', 'val_accuracy']].plot()"
      ],
      "execution_count": 21,
      "outputs": [
        {
          "output_type": "execute_result",
          "data": {
            "text/plain": [
              "<matplotlib.axes._subplots.AxesSubplot at 0x7f04431fee80>"
            ]
          },
          "metadata": {
            "tags": []
          },
          "execution_count": 21
        },
        {
          "output_type": "display_data",
          "data": {
            "image/png": "[encoded data removed]",
            "text/plain": [
              "<Figure size 432x288 with 1 Axes>"
            ]
          },
          "metadata": {
            "tags": [],
            "needs_background": "light"
          }
        },
        {
          "output_type": "display_data",
          "data": {
            "image/png": "[encoded data removed]",
            "text/plain": [
              "<Figure size 432x288 with 1 Axes>"
            ]
          },
          "metadata": {
            "tags": [],
            "needs_background": "light"
          }
        }
      ]
    },
    {
      "cell_type": "code",
      "metadata": {
        "id": "pfvtWDpLVnQw",
        "colab_type": "code",
        "colab": {
          "base_uri": "https://localhost:8080/",
          "height": 69
        },
        "outputId": "3537fd1d-c9a4-4628-ca2f-a492493c79cd"
      },
      "source": [
        "remove_model = model \n",
        "BATCH_SIZE = 50\n",
        "\n",
        "def create_test_gen():\n",
        "    return ImageDataGenerator(rescale=1/255.).flow_from_dataframe(\n",
        "        test_df_gp,\n",
        "        directory='/content/hw3_data_raw/test_images',\n",
        "        x_col='ImageId',\n",
        "        class_mode=None,\n",
        "        target_size=(256, 256),\n",
        "        batch_size=BATCH_SIZE,\n",
        "        shuffle=False\n",
        "    )\n",
        "\n",
        "test_gen = create_test_gen()\n",
        "\n",
        "remove_model.load_weights('/content/genre_train_model.h5')\n",
        "\n",
        "test_nondefect_pred = remove_model.predict_generator(\n",
        "    test_gen,\n",
        "    steps=len(test_gen),\n",
        "    verbose=1\n",
        ")\n",
        "\n",
        "test_df_gp['allMissing'] = test_nondefect_pred\n",
        "test_df_gp.head()\n",
        "print(test_df_gp.shape)"
      ],
      "execution_count": 9,
      "outputs": [
        {
          "output_type": "stream",
          "text": [
            "Found 3770 validated image filenames.\n",
            "76/76 [==============================] - 68s 891ms/step\n",
            "(3770, 2)\n"
          ],
          "name": "stdout"
        }
      ]
    },
    {
      "cell_type": "code",
      "metadata": {
        "id": "aDbFT6SJYHPX",
        "colab_type": "code",
        "colab": {
          "base_uri": "https://localhost:8080/",
          "height": 69
        },
        "outputId": "c83ec474-c1df-4e6f-84c9-3d74affa7288"
      },
      "source": [
        "print(test_df_gp['allMissing'].mean())\n",
        "print(test_df_gp['allMissing'].min())\n",
        "print(test_df_gp['allMissing'].max())"
      ],
      "execution_count": 10,
      "outputs": [
        {
          "output_type": "stream",
          "text": [
            "0.5857325792312622\n",
            "6.150827847051232e-09\n",
            "1.0\n"
          ],
          "name": "stdout"
        }
      ]
    },
    {
      "cell_type": "code",
      "metadata": {
        "id": "kV3_J3CBVnxC",
        "colab_type": "code",
        "colab": {
          "base_uri": "https://localhost:8080/",
          "height": 215
        },
        "outputId": "c5ae15e8-7136-4d6d-827d-11a6503bda57"
      },
      "source": [
        "test_defect_df = test_df_gp[test_df_gp['allMissing'] < 0.5] #>0.5 means no defect\n",
        "\n",
        "test_defect_df.reset_index(drop=True, inplace=True)\n",
        "\n",
        "print(test_defect_df.shape)\n",
        "test_defect_df.head()"
      ],
      "execution_count": 11,
      "outputs": [
        {
          "output_type": "stream",
          "text": [
            "(1563, 2)\n"
          ],
          "name": "stdout"
        },
        {
          "output_type": "execute_result",
          "data": {
            "text/html": [
              "<div>\n",
              "<style scoped>\n",
              "    .dataframe tbody tr th:only-of-type {\n",
              "        vertical-align: middle;\n",
              "    }\n",
              "\n",
              "    .dataframe tbody tr th {\n",
              "        vertical-align: top;\n",
              "    }\n",
              "\n",
              "    .dataframe thead th {\n",
              "        text-align: right;\n",
              "    }\n",
              "</style>\n",
              "<table border=\"1\" class=\"dataframe\">\n",
              "  <thead>\n",
              "    <tr style=\"text-align: right;\">\n",
              "      <th></th>\n",
              "      <th>ImageId</th>\n",
              "      <th>allMissing</th>\n",
              "    </tr>\n",
              "  </thead>\n",
              "  <tbody>\n",
              "    <tr>\n",
              "      <th>0</th>\n",
              "      <td>23.JPG</td>\n",
              "      <td>2.177453e-01</td>\n",
              "    </tr>\n",
              "    <tr>\n",
              "      <th>1</th>\n",
              "      <td>31.JPG</td>\n",
              "      <td>2.592341e-07</td>\n",
              "    </tr>\n",
              "    <tr>\n",
              "      <th>2</th>\n",
              "      <td>52.JPG</td>\n",
              "      <td>2.273133e-02</td>\n",
              "    </tr>\n",
              "    <tr>\n",
              "      <th>3</th>\n",
              "      <td>55.JPG</td>\n",
              "      <td>2.961169e-01</td>\n",
              "    </tr>\n",
              "    <tr>\n",
              "      <th>4</th>\n",
              "      <td>70.JPG</td>\n",
              "      <td>1.112970e-01</td>\n",
              "    </tr>\n",
              "  </tbody>\n",
              "</table>\n",
              "</div>"
            ],
            "text/plain": [
              "  ImageId    allMissing\n",
              "0  23.JPG  2.177453e-01\n",
              "1  31.JPG  2.592341e-07\n",
              "2  52.JPG  2.273133e-02\n",
              "3  55.JPG  2.961169e-01\n",
              "4  70.JPG  1.112970e-01"
            ]
          },
          "metadata": {
            "tags": []
          },
          "execution_count": 11
        }
      ]
    },
    {
      "cell_type": "code",
      "metadata": {
        "id": "n7k6KJNbVrYj",
        "colab_type": "code",
        "colab": {}
      },
      "source": [
        "def mask2rle(img):\n",
        "    '''\n",
        "    img: numpy array, 1 - mask, 0 - background\n",
        "    Returns run length as string formated\n",
        "    '''\n",
        "    pixels= img.T.flatten()\n",
        "    pixels = np.concatenate([[0], pixels, [0]])\n",
        "    runs = np.where(pixels[1:] != pixels[:-1])[0] + 1\n",
        "    runs[1::2] -= runs[::2]\n",
        "    return ' '.join(str(x) for x in runs)\n",
        "\n",
        "\n",
        "def build_rles(masks):\n",
        "    width, height, depth = masks.shape\n",
        "    \n",
        "    rles = [mask2rle(masks[:, :, i])\n",
        "            for i in range(depth)]\n",
        "    \n",
        "    return rles\n",
        "\n",
        "\n",
        "\"\"\"\"\"\"\n",
        "\n",
        "\n",
        "def rle2mask(rle, input_shape):\n",
        "    width, height = input_shape[:2]\n",
        "    \n",
        "    mask= np.zeros( width*height ).astype(np.uint8)\n",
        "    \n",
        "    array = np.asarray([int(x) for x in rle.split()])\n",
        "    starts = array[0::2]\n",
        "    lengths = array[1::2]\n",
        "\n",
        "    current_position = 0\n",
        "    for index, start in enumerate(starts):\n",
        "        mask[int(start):int(start+lengths[index])] = 1\n",
        "        current_position += lengths[index]\n",
        "        \n",
        "    return mask.reshape(height, width).T\n",
        "\n",
        "\n",
        "def build_masks(rles, input_shape):\n",
        "    depth = 4\n",
        "    masks = np.zeros((*input_shape, depth))\n",
        "    \n",
        "    for i, rle in enumerate(rles):\n",
        "        if (rle != 0):\n",
        "            masks[:, :, i] = rle2mask(rle, input_shape)\n",
        "\n",
        "    return masks"
      ],
      "execution_count": 0,
      "outputs": []
    },
    {
      "cell_type": "code",
      "metadata": {
        "id": "UxmuSl1XVtRK",
        "colab_type": "code",
        "colab": {}
      },
      "source": [
        "class DataGenerator(keras.utils.Sequence):\n",
        "    'Generates data for Keras'\n",
        "    def __init__(self, base_path, IDs, target_df=None, mode='fit',\n",
        "                 batch_size=32, dim=(256, 1600), n_channels=1,\n",
        "                 n_classes=4, random_state=2020, shuffle=True):\n",
        "        self.dim = dim\n",
        "        self.batch_size = batch_size\n",
        "        self.mode = mode\n",
        "        self.IDs = IDs\n",
        "        self.base_path = base_path\n",
        "        self.target_df = target_df\n",
        "        self.n_channels = n_channels\n",
        "        self.n_classes = n_classes\n",
        "        self.shuffle = shuffle\n",
        "        self.random_state = random_state\n",
        "        \n",
        "        self.on_epoch_end()\n",
        "\n",
        "    def __len__(self):\n",
        "        'Denotes the number of batches per epoch'\n",
        "        return int(np.floor(len(self.IDs) / self.batch_size))\n",
        "\n",
        "    def __getitem__(self, index):\n",
        "        'Generate one batch of data'\n",
        "        # Generate indexes of the batch\n",
        "        indexes = self.indexes[index*self.batch_size : (index+1)*self.batch_size]\n",
        "\n",
        "        # Find list of IDs\n",
        "        IDs_batch = [self.IDs[k] for k in indexes]\n",
        "        \n",
        "        X = self.__generate_X(IDs_batch)\n",
        "        \n",
        "        if self.mode == 'fit':\n",
        "            y = self.__generate_y(IDs_batch)\n",
        "            return X, y\n",
        "        \n",
        "        elif self.mode == 'predict':\n",
        "            return X\n",
        "\n",
        "        else:\n",
        "            raise AttributeError('The mode parameter should be set to \"fit\" or \"predict\".')\n",
        "        \n",
        "    def on_epoch_end(self):\n",
        "        'Updates indexes after each epoch'\n",
        "        self.indexes = np.arange(len(self.IDs))\n",
        "        if self.shuffle == True:\n",
        "            np.random.seed(self.random_state)\n",
        "            np.random.shuffle(self.indexes)\n",
        "    \n",
        "    def __generate_X(self, IDs_batch):\n",
        "        'Generates data containing batch_size samples'\n",
        "        # Initialization\n",
        "        X = np.empty((self.batch_size, *self.dim, self.n_channels))\n",
        "        \n",
        "        # Generate data\n",
        "        for i, ID in enumerate(IDs_batch):\n",
        "            im_name = str(ID)+\".JPG\"\n",
        "            img_path = f\"{self.base_path}/{im_name}\"\n",
        "            img = self.__load_grayscale(img_path)\n",
        "            \n",
        "            # Store samples\n",
        "            X[i,] = img\n",
        "\n",
        "        return X\n",
        "    \n",
        "    def __generate_y(self, IDs_batch):\n",
        "        y = np.empty((self.batch_size, *self.dim, self.n_classes), dtype=int)\n",
        "        \n",
        "        for i, ID in enumerate(IDs_batch):\n",
        "            im_name = ID\n",
        "            image_df = self.target_df[self.target_df['ImageId'] == im_name]\n",
        "            im_id = image_df['ClassId'].values\n",
        "            rles = image_df['EncodedPixels'].values\n",
        "\n",
        "            defect_list = [0,0,0,0]\n",
        "            for num, encode in zip(im_id, rles):\n",
        "                if type(encode) is str:\n",
        "                    defect_list[num-1] = encode\n",
        "\n",
        "            masks = build_masks(defect_list, input_shape=self.dim)\n",
        "            \n",
        "            y[i, ] = masks\n",
        "\n",
        "        return y\n",
        "    \n",
        "    def __load_grayscale(self, img_path):\n",
        "        img = cv2.imread(img_path, cv2.IMREAD_GRAYSCALE)\n",
        "        img = img.astype(np.float32) / 255.\n",
        "        img = np.expand_dims(img, axis=-1)\n",
        "\n",
        "        return img"
      ],
      "execution_count": 0,
      "outputs": []
    },
    {
      "cell_type": "code",
      "metadata": {
        "id": "nWCWAH0QV1lq",
        "colab_type": "code",
        "colab": {
          "base_uri": "https://localhost:8080/",
          "height": 86
        },
        "outputId": "2b8ebf1f-766a-410e-e6f6-7728c0ec1352"
      },
      "source": [
        "defect_df.dtypes"
      ],
      "execution_count": 14,
      "outputs": [
        {
          "output_type": "execute_result",
          "data": {
            "text/plain": [
              "ImageId           int64\n",
              "ClassId           int64\n",
              "EncodedPixels    object\n",
              "dtype: object"
            ]
          },
          "metadata": {
            "tags": []
          },
          "execution_count": 14
        }
      ]
    },
    {
      "cell_type": "code",
      "metadata": {
        "id": "hChirMz4V3AR",
        "colab_type": "code",
        "colab": {}
      },
      "source": [
        "def dice_coef(y_true, y_pred, smooth=1):\n",
        "    y_true_f = K.flatten(y_true)\n",
        "    y_pred_f = K.flatten(y_pred)\n",
        "    intersection = K.sum(y_true_f * y_pred_f)\n",
        "    return (2. * intersection + smooth) / (K.sum(y_true_f) + K.sum(y_pred_f) + smooth)\n",
        "\n",
        "\n",
        "genre_model = load_model(\n",
        "                        \"/content/hw3_data_raw/model_for_genre.h5\",\n",
        "                        custom_objects={'dice_coef': dice_coef})\n",
        "\n",
        "\n",
        "genre_model.trainable = True\n",
        "set_weight = False\n",
        "for i, layer in enumerate(genre_model.layers):\n",
        "    if(1):#3 6 9 12 15 17 19 23 \"27\" 31 35\n",
        "        set_weight = True\n",
        "\n",
        "    if set_weight:\n",
        "        layer.trainable = True\n",
        "    else:\n",
        "        layer.trainable = False\n",
        "\n",
        "genre_model.compile(optimizer='adam', loss='binary_crossentropy', metrics=[dice_coef])"
      ],
      "execution_count": 0,
      "outputs": []
    },
    {
      "cell_type": "code",
      "metadata": {
        "id": "bHhqGX1kV4Zd",
        "colab_type": "code",
        "colab": {
          "base_uri": "https://localhost:8080/",
          "height": 1000
        },
        "outputId": "5b39cef0-7ebc-4b98-c7a5-310a0eb3d62a"
      },
      "source": [
        "genre_model.summary()"
      ],
      "execution_count": 16,
      "outputs": [
        {
          "output_type": "stream",
          "text": [
            "Model: \"model_1\"\n",
            "__________________________________________________________________________________________________\n",
            "Layer (type)                    Output Shape         Param #     Connected to                     \n",
            "==================================================================================================\n",
            "input_1 (InputLayer)            (None, 256, 1600, 1) 0                                            \n",
            "__________________________________________________________________________________________________\n",
            "conv2d_1 (Conv2D)               (None, 256, 1600, 8) 80          input_1[0][0]                    \n",
            "__________________________________________________________________________________________________\n",
            "conv2d_2 (Conv2D)               (None, 256, 1600, 8) 584         conv2d_1[0][0]                   \n",
            "__________________________________________________________________________________________________\n",
            "max_pooling2d_1 (MaxPooling2D)  (None, 128, 800, 8)  0           conv2d_2[0][0]                   \n",
            "__________________________________________________________________________________________________\n",
            "conv2d_3 (Conv2D)               (None, 128, 800, 16) 1168        max_pooling2d_1[0][0]            \n",
            "__________________________________________________________________________________________________\n",
            "conv2d_4 (Conv2D)               (None, 128, 800, 16) 2320        conv2d_3[0][0]                   \n",
            "__________________________________________________________________________________________________\n",
            "max_pooling2d_2 (MaxPooling2D)  (None, 64, 400, 16)  0           conv2d_4[0][0]                   \n",
            "__________________________________________________________________________________________________\n",
            "conv2d_5 (Conv2D)               (None, 64, 400, 32)  4640        max_pooling2d_2[0][0]            \n",
            "__________________________________________________________________________________________________\n",
            "conv2d_6 (Conv2D)               (None, 64, 400, 32)  9248        conv2d_5[0][0]                   \n",
            "__________________________________________________________________________________________________\n",
            "max_pooling2d_3 (MaxPooling2D)  (None, 32, 200, 32)  0           conv2d_6[0][0]                   \n",
            "__________________________________________________________________________________________________\n",
            "conv2d_7 (Conv2D)               (None, 32, 200, 64)  18496       max_pooling2d_3[0][0]            \n",
            "__________________________________________________________________________________________________\n",
            "conv2d_8 (Conv2D)               (None, 32, 200, 64)  36928       conv2d_7[0][0]                   \n",
            "__________________________________________________________________________________________________\n",
            "max_pooling2d_4 (MaxPooling2D)  (None, 16, 100, 64)  0           conv2d_8[0][0]                   \n",
            "__________________________________________________________________________________________________\n",
            "conv2d_9 (Conv2D)               (None, 16, 100, 64)  36928       max_pooling2d_4[0][0]            \n",
            "__________________________________________________________________________________________________\n",
            "conv2d_10 (Conv2D)              (None, 16, 100, 64)  36928       conv2d_9[0][0]                   \n",
            "__________________________________________________________________________________________________\n",
            "max_pooling2d_5 (MaxPooling2D)  (None, 8, 50, 64)    0           conv2d_10[0][0]                  \n",
            "__________________________________________________________________________________________________\n",
            "conv2d_11 (Conv2D)              (None, 8, 50, 128)   73856       max_pooling2d_5[0][0]            \n",
            "__________________________________________________________________________________________________\n",
            "conv2d_12 (Conv2D)              (None, 8, 50, 128)   147584      conv2d_11[0][0]                  \n",
            "__________________________________________________________________________________________________\n",
            "conv2d_transpose_1 (Conv2DTrans (None, 16, 100, 64)  32832       conv2d_12[0][0]                  \n",
            "__________________________________________________________________________________________________\n",
            "concatenate_1 (Concatenate)     (None, 16, 100, 128) 0           conv2d_transpose_1[0][0]         \n",
            "                                                                 conv2d_10[0][0]                  \n",
            "__________________________________________________________________________________________________\n",
            "conv2d_13 (Conv2D)              (None, 16, 100, 64)  73792       concatenate_1[0][0]              \n",
            "__________________________________________________________________________________________________\n",
            "conv2d_14 (Conv2D)              (None, 16, 100, 64)  36928       conv2d_13[0][0]                  \n",
            "__________________________________________________________________________________________________\n",
            "conv2d_transpose_2 (Conv2DTrans (None, 32, 200, 32)  8224        conv2d_14[0][0]                  \n",
            "__________________________________________________________________________________________________\n",
            "concatenate_2 (Concatenate)     (None, 32, 200, 96)  0           conv2d_transpose_2[0][0]         \n",
            "                                                                 conv2d_8[0][0]                   \n",
            "__________________________________________________________________________________________________\n",
            "conv2d_15 (Conv2D)              (None, 32, 200, 32)  27680       concatenate_2[0][0]              \n",
            "__________________________________________________________________________________________________\n",
            "conv2d_16 (Conv2D)              (None, 32, 200, 32)  9248        conv2d_15[0][0]                  \n",
            "__________________________________________________________________________________________________\n",
            "conv2d_transpose_3 (Conv2DTrans (None, 64, 400, 32)  4128        conv2d_16[0][0]                  \n",
            "__________________________________________________________________________________________________\n",
            "concatenate_3 (Concatenate)     (None, 64, 400, 64)  0           conv2d_transpose_3[0][0]         \n",
            "                                                                 conv2d_6[0][0]                   \n",
            "__________________________________________________________________________________________________\n",
            "conv2d_17 (Conv2D)              (None, 64, 400, 32)  18464       concatenate_3[0][0]              \n",
            "__________________________________________________________________________________________________\n",
            "conv2d_18 (Conv2D)              (None, 64, 400, 32)  9248        conv2d_17[0][0]                  \n",
            "__________________________________________________________________________________________________\n",
            "conv2d_transpose_4 (Conv2DTrans (None, 128, 800, 16) 2064        conv2d_18[0][0]                  \n",
            "__________________________________________________________________________________________________\n",
            "concatenate_4 (Concatenate)     (None, 128, 800, 32) 0           conv2d_transpose_4[0][0]         \n",
            "                                                                 conv2d_4[0][0]                   \n",
            "__________________________________________________________________________________________________\n",
            "conv2d_19 (Conv2D)              (None, 128, 800, 16) 4624        concatenate_4[0][0]              \n",
            "__________________________________________________________________________________________________\n",
            "conv2d_20 (Conv2D)              (None, 128, 800, 16) 2320        conv2d_19[0][0]                  \n",
            "__________________________________________________________________________________________________\n",
            "conv2d_transpose_5 (Conv2DTrans (None, 256, 1600, 8) 520         conv2d_20[0][0]                  \n",
            "__________________________________________________________________________________________________\n",
            "concatenate_5 (Concatenate)     (None, 256, 1600, 16 0           conv2d_transpose_5[0][0]         \n",
            "                                                                 conv2d_2[0][0]                   \n",
            "__________________________________________________________________________________________________\n",
            "conv2d_21 (Conv2D)              (None, 256, 1600, 8) 1160        concatenate_5[0][0]              \n",
            "__________________________________________________________________________________________________\n",
            "conv2d_22 (Conv2D)              (None, 256, 1600, 8) 584         conv2d_21[0][0]                  \n",
            "__________________________________________________________________________________________________\n",
            "conv2d_23 (Conv2D)              (None, 256, 1600, 4) 36          conv2d_22[0][0]                  \n",
            "==================================================================================================\n",
            "Total params: 600,612\n",
            "Trainable params: 600,612\n",
            "Non-trainable params: 0\n",
            "__________________________________________________________________________________________________\n"
          ],
          "name": "stdout"
        }
      ]
    },
    {
      "cell_type": "code",
      "metadata": {
        "id": "8YfgVxfoV4zM",
        "colab_type": "code",
        "colab": {}
      },
      "source": [
        "BATCH_SIZE = 25\n",
        "\n",
        "train_id, val_id = train_test_split(\n",
        "    defect_df_gp[\"ImageId\"].tolist(),  # name for imageid\n",
        "    random_state=2020, \n",
        "    test_size=0.1\n",
        ")\n",
        "\n",
        "train_generator = DataGenerator(\n",
        "    base_path='/content/hw3_data_raw/train_images',\n",
        "    IDs = train_id,\n",
        "    target_df=defect_df,\n",
        "    batch_size=BATCH_SIZE, \n",
        "    n_classes=4\n",
        ")\n",
        "\n",
        "val_generator = DataGenerator(\n",
        "    base_path='/content/hw3_data_raw/train_images',\n",
        "    IDs = val_id, \n",
        "    target_df=defect_df,\n",
        "    batch_size=BATCH_SIZE, \n",
        "    n_classes=4\n",
        ")"
      ],
      "execution_count": 0,
      "outputs": []
    },
    {
      "cell_type": "code",
      "metadata": {
        "id": "W5Mvt3ohV6Xf",
        "colab_type": "code",
        "colab": {}
      },
      "source": [
        "checkpoint = ModelCheckpoint(\n",
        "    '/content/outcome_model.h5', \n",
        "    monitor='val_loss', \n",
        "    verbose=1, \n",
        "    save_best_only=True, \n",
        "    save_weights_only=False,\n",
        "    mode='auto'\n",
        ")\n",
        "\n",
        "history = genre_model.fit_generator(\n",
        "    train_generator,\n",
        "    validation_data=val_generator,\n",
        "    use_multiprocessing=1,\n",
        "    workers=1,\n",
        "    epochs=20,\n",
        "    callbacks=[checkpoint]\n",
        ")"
      ],
      "execution_count": 0,
      "outputs": []
    },
    {
      "cell_type": "code",
      "metadata": {
        "id": "Mkx1VNr5V_aq",
        "colab_type": "code",
        "colab": {}
      },
      "source": [
        "history_df = pd.DataFrame(history.history)\n",
        "history_df[['loss', 'val_loss']].plot()\n",
        "history_df[['dice_coef', 'val_dice_coef']].plot()"
      ],
      "execution_count": 0,
      "outputs": []
    },
    {
      "cell_type": "code",
      "metadata": {
        "id": "9xfL1Wbfr1lU",
        "colab_type": "code",
        "colab": {}
      },
      "source": [
        "test_defect_df[\"ImageId\"] = test_defect_df[\"ImageId\"].apply(lambda x: int(x.split(\".\")[0]))\n",
        "test_defect_df"
      ],
      "execution_count": 0,
      "outputs": []
    },
    {
      "cell_type": "code",
      "metadata": {
        "id": "33lYtb-kmsa1",
        "colab_type": "code",
        "colab": {}
      },
      "source": [
        "test_sub = test_defect_df.copy().drop(\"allMissing\", axis=1)\n",
        "test_sub = test_sub.loc[test_sub.index.repeat(4)]\n",
        "test_sub[\"ClassId\"] = [ ((i%4)+1) for i in range(len(test_sub))]\n",
        "test_sub.reset_index(drop=True, inplace=True)\n",
        "test_sub[\"EncodedPixels\"] = np.nan\n",
        "test_sub"
      ],
      "execution_count": 0,
      "outputs": []
    },
    {
      "cell_type": "code",
      "metadata": {
        "id": "xIhPyBL7V75x",
        "colab_type": "code",
        "colab": {}
      },
      "source": [
        "genre_model.load_weights(\"/content/outcome_model.h5\")\n",
        "\n",
        "test_df = []\n",
        "whole_test_id_list = test_defect_df[\"ImageId\"].tolist()\n",
        "\n",
        "for i in range(0, test_defect_df.shape[0], 300):\n",
        "    batch_id = whole_test_id_list[i : min(test_defect_df.shape[0], i + 300)]\n",
        "    \n",
        "    test_generator = DataGenerator(\n",
        "                IDs = batch_id,\n",
        "                target_df = test_sub,\n",
        "                base_path='/content/hw3_data_raw/test_images',\n",
        "                mode='predict',\n",
        "                batch_size=1,\n",
        "                n_classes=4,\n",
        "                shuffle=False,   \n",
        "    )\n",
        "    \n",
        "    batch_pred_masks = genre_model.predict_generator(\n",
        "        test_generator, \n",
        "        workers=1,\n",
        "        verbose=1,\n",
        "        use_multiprocessing=False\n",
        "    )\n",
        "    \n",
        "    for j, b in tqdm(enumerate(batch_id)):\n",
        "        image_df = test_sub[test_sub['ImageId'] == b].copy()\n",
        "        \n",
        "        pred_masks = batch_pred_masks[j, ].round().astype(int)\n",
        "        pred_rles = build_rles(pred_masks)\n",
        "        \n",
        "        image_df['EncodedPixels'] = pred_rles\n",
        "        test_df.append(image_df)"
      ],
      "execution_count": 0,
      "outputs": []
    },
    {
      "cell_type": "code",
      "metadata": {
        "id": "FhuXm07Yvdny",
        "colab_type": "code",
        "colab": {}
      },
      "source": [
        "test_df = pd.concat(test_df)\n",
        "test_withvalue_df = test_df[test_df['EncodedPixels'] != \"\"]\n",
        "print(test_withvalue_df.shape)\n",
        "test_withvalue_df.head()"
      ],
      "execution_count": 0,
      "outputs": []
    },
    {
      "cell_type": "code",
      "metadata": {
        "id": "fALi-qxyyg4o",
        "colab_type": "code",
        "colab": {}
      },
      "source": [
        "test_withvalue_df.to_csv('Submission.csv', index=False)"
      ],
      "execution_count": 0,
      "outputs": []
    }
  ]
}