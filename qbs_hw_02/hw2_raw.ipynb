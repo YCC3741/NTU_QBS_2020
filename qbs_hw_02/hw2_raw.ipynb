{
  "nbformat": 4,
  "nbformat_minor": 0,
  "metadata": {
    "colab": {
      "name": "hw2_raw.ipynb",
      "provenance": [],
      "collapsed_sections": [],
      "machine_shape": "hm"
    },
    "kernelspec": {
      "name": "python3",
      "display_name": "Python 3"
    }
  },
  "cells": [
    {
      "cell_type": "code",
      "metadata": {
        "id": "hn_Cdy8FAdgC",
        "colab_type": "code",
        "colab": {}
      },
      "source": [
        "!apt-get install p7zip-full\n",
        "\n",
        "!unzip /content/test_numeric.csv.zip -d /content/data\n",
        "!unzip /content/test_date.csv.zip -d /content/data\n",
        "!unzip /content/test_categorical.csv.zip -d /content/data\n",
        "!unzip /content/train_numeric.csv.zip -d /content/data\n",
        "!unzip /content/train_date.csv.zip -d /content/data\n",
        "!unzip /content/train_categorical.csv.zip -d /content/data"
      ],
      "execution_count": 0,
      "outputs": []
    },
    {
      "cell_type": "code",
      "metadata": {
        "id": "YEe1sJr3uV2l",
        "colab_type": "code",
        "colab": {}
      },
      "source": [
        "!pip install -U -q kaggle\n",
        "!mkdir -p ~/.kaggle"
      ],
      "execution_count": 0,
      "outputs": []
    },
    {
      "cell_type": "code",
      "metadata": {
        "id": "sDsGDRI6vCMo",
        "colab_type": "code",
        "colab": {}
      },
      "source": [
        "from google.colab import files\n",
        "files.upload()"
      ],
      "execution_count": 0,
      "outputs": []
    },
    {
      "cell_type": "code",
      "metadata": {
        "id": "QFyLK9kdvw0-",
        "colab_type": "code",
        "colab": {}
      },
      "source": [
        "!chmod 600 /root/.kaggle/kaggle.json\n",
        "!kaggle competitions download -c ntu-qbs-assignment-2\n",
        "!ls"
      ],
      "execution_count": 0,
      "outputs": []
    },
    {
      "cell_type": "code",
      "metadata": {
        "id": "zp4jasY0v1ed",
        "colab_type": "code",
        "colab": {}
      },
      "source": [
        "from zipfile import ZipFile\n",
        "import pandas as pd\n",
        "import numpy as np # linear algebra"
      ],
      "execution_count": 0,
      "outputs": []
    },
    {
      "cell_type": "markdown",
      "metadata": {
        "id": "WL6151yBzIw6",
        "colab_type": "text"
      },
      "source": [
        "# Date data"
      ]
    },
    {
      "cell_type": "code",
      "metadata": {
        "id": "LDwS1wiPytqv",
        "colab_type": "code",
        "colab": {}
      },
      "source": [
        "train_date = pd.read_csv('/content/data/train_date.csv').astype('float32')\n",
        "test_date = pd.read_csv('/content/data/test_date.csv').astype('float32')"
      ],
      "execution_count": 0,
      "outputs": []
    },
    {
      "cell_type": "code",
      "metadata": {
        "id": "2jrGHWUBooLP",
        "colab_type": "code",
        "colab": {}
      },
      "source": [
        "train_date = train_date.drop(\"Id\", axis=1)\n",
        "test_date = test_date.drop(\"Id\", axis=1)"
      ],
      "execution_count": 0,
      "outputs": []
    },
    {
      "cell_type": "markdown",
      "metadata": {
        "id": "U_sQv5RKzP4L",
        "colab_type": "text"
      },
      "source": [
        "# Numerical data"
      ]
    },
    {
      "cell_type": "code",
      "metadata": {
        "id": "QpuUlxMNzSeL",
        "colab_type": "code",
        "colab": {}
      },
      "source": [
        "test_numeric = pd.read_csv('/content/data/test_numeric.csv').astype('float32')\n",
        "train_numeric = pd.read_csv('/content/data/train_numeric.csv').astype('float32')"
      ],
      "execution_count": 0,
      "outputs": []
    },
    {
      "cell_type": "code",
      "metadata": {
        "id": "NsFm-GwXpBGh",
        "colab_type": "code",
        "colab": {}
      },
      "source": [
        "train_numeric = train_numeric.drop(\"Id\", axis=1)\n",
        "test_numeric = test_numeric.drop(\"Id\", axis=1)"
      ],
      "execution_count": 0,
      "outputs": []
    },
    {
      "cell_type": "markdown",
      "metadata": {
        "id": "GWOfdlfRt3mK",
        "colab_type": "text"
      },
      "source": [
        "# Reduce momerry"
      ]
    },
    {
      "cell_type": "code",
      "metadata": {
        "id": "U8f_6b_1v-Mi",
        "colab_type": "code",
        "colab": {}
      },
      "source": [
        "def reduce_mem_usage(props):\n",
        "    start_mem_usg = props.memory_usage().sum() / 1024**2 \n",
        "    print(\"Memory usage of properties dataframe is :\",start_mem_usg,\" MB\")\n",
        "    NAlist = [] # Keeps track of columns that have missing values filled in. \n",
        "    for col in props.columns:\n",
        "        if props[col].dtype != object:  # Exclude strings\n",
        "            \n",
        "            # Print current column type\n",
        "            print(\"******************************\")\n",
        "            print(\"Column: \",col)\n",
        "            print(\"dtype before: \",props[col].dtype)\n",
        "            \n",
        "            # make variables for Int, max and min\n",
        "            IsInt = False\n",
        "            mx = props[col].max()\n",
        "            mn = props[col].min()\n",
        "            \n",
        "            # Integer does not support NA, therefore, NA needs to be filled\n",
        "            if not np.isfinite(props[col]).all(): \n",
        "                NAlist.append(col)\n",
        "                props[col].fillna(mn-1,inplace=True)  \n",
        "                   \n",
        "            # test if column can be converted to an integer\n",
        "            asint = props[col].fillna(0).astype(np.int64)\n",
        "            result = (props[col] - asint)\n",
        "            result = result.sum()\n",
        "            if result > -0.01 and result < 0.01:\n",
        "                IsInt = True\n",
        "\n",
        "            \n",
        "            # Make Integer/unsigned Integer datatypes\n",
        "            if IsInt:\n",
        "                if mn >= 0:\n",
        "                    if mx < 255:\n",
        "                        props[col] = props[col].astype(np.uint8)\n",
        "                    elif mx < 65535:\n",
        "                        props[col] = props[col].astype(np.uint16)\n",
        "                    elif mx < 4294967295:\n",
        "                        props[col] = props[col].astype(np.uint32)\n",
        "                    else:\n",
        "                        props[col] = props[col].astype(np.uint64)\n",
        "                else:\n",
        "                    if mn > np.iinfo(np.int8).min and mx < np.iinfo(np.int8).max:\n",
        "                        props[col] = props[col].astype(np.int8)\n",
        "                    elif mn > np.iinfo(np.int16).min and mx < np.iinfo(np.int16).max:\n",
        "                        props[col] = props[col].astype(np.int16)\n",
        "                    elif mn > np.iinfo(np.int32).min and mx < np.iinfo(np.int32).max:\n",
        "                        props[col] = props[col].astype(np.int32)\n",
        "                    elif mn > np.iinfo(np.int64).min and mx < np.iinfo(np.int64).max:\n",
        "                        props[col] = props[col].astype(np.int64)    \n",
        "            \n",
        "            # Make float datatypes 32 bit\n",
        "            else:\n",
        "                props[col] = props[col].astype(np.float16)\n",
        "            \n",
        "            # Print new column type\n",
        "            print(\"dtype after: \",props[col].dtype)\n",
        "            print(\"******************************\")\n",
        "\n",
        "        else: #string case\n",
        "\n",
        "            # Print current column type\n",
        "            print(\"******************************\")\n",
        "            print(\"Column: \",col)\n",
        "            print(\"dtype before: \",props[col].dtype)\n",
        "\n",
        "            props[col] = props[col].astype('category')\n",
        "\n",
        "             # Print new column type\n",
        "            print(\"dtype after: \",props[col].dtype)\n",
        "            print(\"******************************\")\n",
        "\n",
        "\n",
        "    # Print final result\n",
        "    print(\"___MEMORY USAGE AFTER COMPLETION:___\")\n",
        "    mem_usg = props.memory_usage().sum() / 1024**2 \n",
        "    print(\"Memory usage is: \",mem_usg,\" MB\")\n",
        "    print(\"This is \",100*mem_usg/start_mem_usg,\"% of the initial size\")\n",
        "\n",
        "    return props"
      ],
      "execution_count": 0,
      "outputs": []
    },
    {
      "cell_type": "markdown",
      "metadata": {
        "id": "kFgskduAzgU1",
        "colab_type": "text"
      },
      "source": [
        "# Categorical data"
      ]
    },
    {
      "cell_type": "code",
      "metadata": {
        "id": "lFHXq1-pzlfM",
        "colab_type": "code",
        "colab": {}
      },
      "source": [
        "import  numpy as np\n",
        "\n",
        "data = pd.read_csv(\"/content/data/train_categorical.csv\",chunksize=1)\n",
        "\n",
        "for df in data:\n",
        "    column_name = df.columns\n",
        "    break\n",
        "\n",
        "train_categorical = pd.read_csv(\"/content/data/train_categorical.csv\",usecols=column_name[0:141])[column_name[0:141]]\n",
        "train_categorical = reduce_mem_usage(train_categorical)\n",
        "\n",
        "for i in range(0,2000,400):\n",
        "    temp = pd.read_csv(\"/content/data/train_categorical.csv\", usecols=column_name[(141+i):(541+i)])[column_name[(141+i):(541+i)]]\n",
        "    train_categorical = pd.concat([train_categorical, reduce_mem_usage(temp)], axis=1, ignore_index=True)\n",
        "\n",
        "\n",
        "test_categorical = pd.read_csv(\"/content/data/test_categorical.csv\",usecols=column_name[0:141])[column_name[0:141]]\n",
        "test_categorical = reduce_mem_usage(test_categorical)\n",
        "\n",
        "for i in range(0,2000,400):\n",
        "    temp = pd.read_csv(\"/content/data/test_categorical.csv\", usecols=column_name[(141+i):(541+i)])[column_name[(141+i):(541+i)]]\n",
        "    test_categorical = pd.concat([test_categorical, reduce_mem_usage(temp)], axis=1, ignore_index=True)\n",
        "\n",
        "train_categorical.columns = column_name"
      ],
      "execution_count": 0,
      "outputs": []
    },
    {
      "cell_type": "code",
      "metadata": {
        "id": "dM-oQ_1ophIV",
        "colab_type": "code",
        "colab": {}
      },
      "source": [
        "train_categorical.isnull().sum()"
      ],
      "execution_count": 0,
      "outputs": []
    }
  ]
}