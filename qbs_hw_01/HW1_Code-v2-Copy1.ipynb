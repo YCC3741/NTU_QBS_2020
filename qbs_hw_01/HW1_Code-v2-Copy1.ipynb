{
 "cells": [
  {
   "cell_type": "markdown",
   "metadata": {},
   "source": [
    "<font color = red>**QBS Competition 1 - Code Part**</font>  \n",
    "For your information, texts with blue color are titles, those with green are findings and comments, and those with black are just some descriptions."
   ]
  },
  {
   "cell_type": "markdown",
   "metadata": {},
   "source": [
    "**<font color = blue>Step 1 : Import Data**"
   ]
  },
  {
   "cell_type": "code",
   "execution_count": 1,
   "metadata": {},
   "outputs": [],
   "source": [
    "import pandas as pd\n",
    "import numpy as np\n",
    "import matplotlib.pyplot as plt\n",
    "\n",
    "x_train = pd.read_csv(\"train.csv\", usecols = range(15))\n",
    "x_test = pd.read_csv(\"test.csv\")\n",
    "y_train = pd.read_csv(\"train.csv\", usecols = [15])\n",
    "\n",
    "# Combine x_train and x_test in order to explore data and tackle with missing value later\n",
    "x_data = x_train.append(x_test)"
   ]
  },
  {
   "cell_type": "markdown",
   "metadata": {},
   "source": [
    "   "
   ]
  },
  {
   "cell_type": "markdown",
   "metadata": {},
   "source": [
    "**<font color = blue> Step 2: Data exploring and preprocessing**"
   ]
  },
  {
   "cell_type": "markdown",
   "metadata": {},
   "source": [
    "I only included the parts that I adjusted the data. The other explorations are included in the report only."
   ]
  },
  {
   "cell_type": "markdown",
   "metadata": {},
   "source": [
    "<font color = blue> 1. Correlation table --- delete *ID* and *fnlgwt*</font>  "
   ]
  },
  {
   "cell_type": "code",
   "execution_count": 2,
   "metadata": {},
   "outputs": [
    {
     "data": {
      "text/html": [
       "<div>\n",
       "<style scoped>\n",
       "    .dataframe tbody tr th:only-of-type {\n",
       "        vertical-align: middle;\n",
       "    }\n",
       "\n",
       "    .dataframe tbody tr th {\n",
       "        vertical-align: top;\n",
       "    }\n",
       "\n",
       "    .dataframe thead th {\n",
       "        text-align: right;\n",
       "    }\n",
       "</style>\n",
       "<table border=\"1\" class=\"dataframe\">\n",
       "  <thead>\n",
       "    <tr style=\"text-align: right;\">\n",
       "      <th></th>\n",
       "      <th>ID</th>\n",
       "      <th>Age</th>\n",
       "      <th>fnlwgt</th>\n",
       "      <th>Education_Num</th>\n",
       "      <th>Capital_Gain</th>\n",
       "      <th>Capital_Loss</th>\n",
       "      <th>Hours_per_week</th>\n",
       "      <th>Target</th>\n",
       "    </tr>\n",
       "  </thead>\n",
       "  <tbody>\n",
       "    <tr>\n",
       "      <th>ID</th>\n",
       "      <td>1.000000</td>\n",
       "      <td>-0.010074</td>\n",
       "      <td>-0.001478</td>\n",
       "      <td>-0.010577</td>\n",
       "      <td>-0.001629</td>\n",
       "      <td>-0.001193</td>\n",
       "      <td>0.000050</td>\n",
       "      <td>0.000871</td>\n",
       "    </tr>\n",
       "    <tr>\n",
       "      <th>Age</th>\n",
       "      <td>-0.010074</td>\n",
       "      <td>1.000000</td>\n",
       "      <td>-0.081941</td>\n",
       "      <td>-0.008544</td>\n",
       "      <td>0.067013</td>\n",
       "      <td>0.052337</td>\n",
       "      <td>0.063897</td>\n",
       "      <td>0.168381</td>\n",
       "    </tr>\n",
       "    <tr>\n",
       "      <th>fnlwgt</th>\n",
       "      <td>-0.001478</td>\n",
       "      <td>-0.081941</td>\n",
       "      <td>1.000000</td>\n",
       "      <td>-0.050178</td>\n",
       "      <td>-0.007749</td>\n",
       "      <td>-0.011357</td>\n",
       "      <td>-0.011707</td>\n",
       "      <td>-0.010398</td>\n",
       "    </tr>\n",
       "    <tr>\n",
       "      <th>Education_Num</th>\n",
       "      <td>-0.010577</td>\n",
       "      <td>-0.008544</td>\n",
       "      <td>-0.050178</td>\n",
       "      <td>1.000000</td>\n",
       "      <td>0.093034</td>\n",
       "      <td>0.061480</td>\n",
       "      <td>0.117537</td>\n",
       "      <td>0.253277</td>\n",
       "    </tr>\n",
       "    <tr>\n",
       "      <th>Capital_Gain</th>\n",
       "      <td>-0.001629</td>\n",
       "      <td>0.067013</td>\n",
       "      <td>-0.007749</td>\n",
       "      <td>0.093034</td>\n",
       "      <td>1.000000</td>\n",
       "      <td>-0.022272</td>\n",
       "      <td>0.054600</td>\n",
       "      <td>0.234683</td>\n",
       "    </tr>\n",
       "    <tr>\n",
       "      <th>Capital_Loss</th>\n",
       "      <td>-0.001193</td>\n",
       "      <td>0.052337</td>\n",
       "      <td>-0.011357</td>\n",
       "      <td>0.061480</td>\n",
       "      <td>-0.022272</td>\n",
       "      <td>1.000000</td>\n",
       "      <td>0.046495</td>\n",
       "      <td>0.129586</td>\n",
       "    </tr>\n",
       "    <tr>\n",
       "      <th>Hours_per_week</th>\n",
       "      <td>0.000050</td>\n",
       "      <td>0.063897</td>\n",
       "      <td>-0.011707</td>\n",
       "      <td>0.117537</td>\n",
       "      <td>0.054600</td>\n",
       "      <td>0.046495</td>\n",
       "      <td>1.000000</td>\n",
       "      <td>0.168797</td>\n",
       "    </tr>\n",
       "    <tr>\n",
       "      <th>Target</th>\n",
       "      <td>0.000871</td>\n",
       "      <td>0.168381</td>\n",
       "      <td>-0.010398</td>\n",
       "      <td>0.253277</td>\n",
       "      <td>0.234683</td>\n",
       "      <td>0.129586</td>\n",
       "      <td>0.168797</td>\n",
       "      <td>1.000000</td>\n",
       "    </tr>\n",
       "  </tbody>\n",
       "</table>\n",
       "</div>"
      ],
      "text/plain": [
       "                      ID       Age    fnlwgt  Education_Num  Capital_Gain  \\\n",
       "ID              1.000000 -0.010074 -0.001478      -0.010577     -0.001629   \n",
       "Age            -0.010074  1.000000 -0.081941      -0.008544      0.067013   \n",
       "fnlwgt         -0.001478 -0.081941  1.000000      -0.050178     -0.007749   \n",
       "Education_Num  -0.010577 -0.008544 -0.050178       1.000000      0.093034   \n",
       "Capital_Gain   -0.001629  0.067013 -0.007749       0.093034      1.000000   \n",
       "Capital_Loss   -0.001193  0.052337 -0.011357       0.061480     -0.022272   \n",
       "Hours_per_week  0.000050  0.063897 -0.011707       0.117537      0.054600   \n",
       "Target          0.000871  0.168381 -0.010398       0.253277      0.234683   \n",
       "\n",
       "                Capital_Loss  Hours_per_week    Target  \n",
       "ID                 -0.001193        0.000050  0.000871  \n",
       "Age                 0.052337        0.063897  0.168381  \n",
       "fnlwgt             -0.011357       -0.011707 -0.010398  \n",
       "Education_Num       0.061480        0.117537  0.253277  \n",
       "Capital_Gain       -0.022272        0.054600  0.234683  \n",
       "Capital_Loss        1.000000        0.046495  0.129586  \n",
       "Hours_per_week      0.046495        1.000000  0.168797  \n",
       "Target              0.129586        0.168797  1.000000  "
      ]
     },
     "execution_count": 2,
     "metadata": {},
     "output_type": "execute_result"
    }
   ],
   "source": [
    "# Combine x_train and y_train into train_data\n",
    "train_data = pd.concat([x_train, y_train], axis = 1)\n",
    "\n",
    "# See the correlation table\n",
    "train_data.corr(method = 'pearson')"
   ]
  },
  {
   "cell_type": "code",
   "execution_count": 3,
   "metadata": {},
   "outputs": [],
   "source": [
    "# Drop ID and fnlwgt features due to extremely low correlation with target\n",
    "x_data = x_data.drop(\"ID\", axis = 1)\n",
    "x_data = x_data.drop(\"fnlwgt\", axis = 1)"
   ]
  },
  {
   "cell_type": "markdown",
   "metadata": {},
   "source": [
    "  "
   ]
  },
  {
   "cell_type": "markdown",
   "metadata": {},
   "source": [
    "<font color = blue> 2. *Workclass* --- dealing with missing value and group the classes"
   ]
  },
  {
   "cell_type": "code",
   "execution_count": 4,
   "metadata": {},
   "outputs": [
    {
     "name": "stdout",
     "output_type": "stream",
     "text": [
      " Private             33906\n",
      " Self-emp-not-inc     3862\n",
      " Local-gov            3136\n",
      "NaN                   2799\n",
      " State-gov            1981\n",
      " Self-emp-inc         1695\n",
      " Federal-gov          1432\n",
      " Without-pay            21\n",
      " Never-worked           10\n",
      "Name: Workclass, dtype: int64\n"
     ]
    }
   ],
   "source": [
    "# Observe the categories of Workclass\n",
    "print(x_data['Workclass'].value_counts(dropna=False))"
   ]
  },
  {
   "cell_type": "code",
   "execution_count": 5,
   "metadata": {},
   "outputs": [],
   "source": [
    "# Fill nan with Others and group the data into Gov, Self, and Others\n",
    "\n",
    "x_data['Workclass'] = x_data['Workclass'].fillna(value = ' Others')\n",
    "Gov = [' Local-gov',' Federal-gov',' State-gov']\n",
    "Self = [' Self-emp-not-inc',' Self-emp-inc']\n",
    "Others = [' Without-pay',' Never-worked']\n",
    "x_data['Workclass'] = x_data['Workclass'].replace(Gov, ' Gov')\n",
    "x_data['Workclass'] = x_data['Workclass'].replace(Self, ' Self')\n",
    "x_data['Workclass'] = x_data['Workclass'].replace(Others, ' Others')"
   ]
  },
  {
   "cell_type": "code",
   "execution_count": 6,
   "metadata": {},
   "outputs": [
    {
     "data": {
      "image/png": "[encoded data removed]",
      "text/plain": [
       "<Figure size 432x288 with 1 Axes>"
      ]
     },
     "metadata": {
      "needs_background": "light"
     },
     "output_type": "display_data"
    }
   ],
   "source": [
    "# Plot the result after grouping\n",
    "workclass_x = x_data['Workclass'].value_counts().keys().to_list()\n",
    "workclass_num = x_data['Workclass'].value_counts().to_list()\n",
    "\n",
    "plt.bar( workclass_x, workclass_num, color = 'grey')\n",
    "plt.xlabel('Workclass')\n",
    "plt.ylabel('Count')\n",
    "plt.title('Distribution of Workclass')\n",
    "plt.show()\n",
    "plt.close()"
   ]
  },
  {
   "cell_type": "markdown",
   "metadata": {},
   "source": [
    "<font color = blue>  3. *Education* & *Education_Num* & *Hours_per_week* --- delete Education to prevent colinearity and do feature engineering"
   ]
  },
  {
   "cell_type": "code",
   "execution_count": 7,
   "metadata": {},
   "outputs": [
    {
     "data": {
      "text/plain": [
       " HS-grad         15784\n",
       " Some-college    10878\n",
       " Bachelors        8025\n",
       " Masters          2657\n",
       " Assoc-voc        2061\n",
       " 11th             1812\n",
       " Assoc-acdm       1601\n",
       " 10th             1389\n",
       " 7th-8th           955\n",
       " Prof-school       834\n",
       " 9th               756\n",
       " 12th              657\n",
       " Doctorate         594\n",
       " 5th-6th           509\n",
       " 1st-4th           247\n",
       " Preschool          83\n",
       "Name: Education, dtype: int64"
      ]
     },
     "execution_count": 7,
     "metadata": {},
     "output_type": "execute_result"
    }
   ],
   "source": [
    "# Observe the categories of Education and the counts\n",
    "x_data['Education'].value_counts(dropna=False)"
   ]
  },
  {
   "cell_type": "code",
   "execution_count": 8,
   "metadata": {},
   "outputs": [
    {
     "name": "stdout",
     "output_type": "stream",
     "text": [
      "Doctorate:  16    594\n",
      "Name: Education_Num, dtype: int64\n",
      "Prof-school:  15    834\n",
      "Name: Education_Num, dtype: int64\n",
      "Masters:  14    2657\n",
      "Name: Education_Num, dtype: int64\n",
      "Bachelors:  13    8025\n",
      "Name: Education_Num, dtype: int64\n",
      "Assoc-acdm:  12    1601\n",
      "Name: Education_Num, dtype: int64\n",
      "Assoc-voc:  11    2061\n",
      "Name: Education_Num, dtype: int64\n",
      "Some-college:  10    10878\n",
      "Name: Education_Num, dtype: int64\n",
      "HS-grad:  9    15784\n",
      "Name: Education_Num, dtype: int64\n",
      "12th:  8    657\n",
      "Name: Education_Num, dtype: int64\n",
      "11th:  7    1812\n",
      "Name: Education_Num, dtype: int64\n",
      "10th:  6    1389\n",
      "Name: Education_Num, dtype: int64\n",
      "9th:  5    756\n",
      "Name: Education_Num, dtype: int64\n",
      "7th-8th:  4    955\n",
      "Name: Education_Num, dtype: int64\n",
      "5th-6th:  3    509\n",
      "Name: Education_Num, dtype: int64\n",
      "1st-4th:  2    247\n",
      "Name: Education_Num, dtype: int64\n",
      "Preschool:  1    83\n",
      "Name: Education_Num, dtype: int64\n"
     ]
    }
   ],
   "source": [
    "# Test if Education and Education_Num are 1 to 1 mapping\n",
    "print(\"Doctorate: \", x_data.loc[ x_data.Education == ' Doctorate']['Education_Num'].value_counts())\n",
    "print(\"Prof-school: \", x_data.loc[ x_data.Education == ' Prof-school']['Education_Num'].value_counts())\n",
    "print(\"Masters: \", x_data.loc[ x_data.Education == ' Masters']['Education_Num'].value_counts())\n",
    "print(\"Bachelors: \", x_data.loc[ x_data.Education == ' Bachelors']['Education_Num'].value_counts())\n",
    "print(\"Assoc-acdm: \", x_data.loc[ x_data.Education == ' Assoc-acdm']['Education_Num'].value_counts())\n",
    "print(\"Assoc-voc: \", x_data.loc[ x_data.Education == ' Assoc-voc']['Education_Num'].value_counts())\n",
    "print(\"Some-college: \", x_data.loc[ x_data.Education == ' Some-college']['Education_Num'].value_counts())\n",
    "print(\"HS-grad: \",x_data.loc[ x_data.Education == ' HS-grad']['Education_Num'].value_counts())\n",
    "print(\"12th: \", x_data.loc[ x_data.Education == ' 12th']['Education_Num'].value_counts())\n",
    "print(\"11th: \", x_data.loc[ x_data.Education == ' 11th']['Education_Num'].value_counts())\n",
    "print(\"10th: \", x_data.loc[ x_data.Education == ' 10th']['Education_Num'].value_counts())\n",
    "print(\"9th: \", x_data.loc[ x_data.Education == ' 9th']['Education_Num'].value_counts())\n",
    "print(\"7th-8th: \", x_data.loc[ x_data.Education == ' 7th-8th']['Education_Num'].value_counts())\n",
    "print(\"5th-6th: \", x_data.loc[ x_data.Education == ' 5th-6th']['Education_Num'].value_counts())\n",
    "print(\"1st-4th: \", x_data.loc[ x_data.Education == ' 1st-4th']['Education_Num'].value_counts())\n",
    "print(\"Preschool: \", x_data.loc[ x_data.Education == ' Preschool']['Education_Num'].value_counts())"
   ]
  },
  {
   "cell_type": "code",
   "execution_count": 9,
   "metadata": {},
   "outputs": [],
   "source": [
    "# Delete Education column from data set because they are 1 to 1 mapping\n",
    "x_data = x_data.drop(\"Education\", axis = 1)"
   ]
  },
  {
   "cell_type": "markdown",
   "metadata": {},
   "source": [
    "<font color = green> From the correlation table, I found that Education_Num and Hours_per_week have higher correlation with Target.   \n",
    "    Hence, I'd like to add a cross-multiplying terms as Edu*Hr."
   ]
  },
  {
   "cell_type": "code",
   "execution_count": 10,
   "metadata": {},
   "outputs": [
    {
     "data": {
      "text/html": [
       "<div>\n",
       "<style scoped>\n",
       "    .dataframe tbody tr th:only-of-type {\n",
       "        vertical-align: middle;\n",
       "    }\n",
       "\n",
       "    .dataframe tbody tr th {\n",
       "        vertical-align: top;\n",
       "    }\n",
       "\n",
       "    .dataframe thead th {\n",
       "        text-align: right;\n",
       "    }\n",
       "</style>\n",
       "<table border=\"1\" class=\"dataframe\">\n",
       "  <thead>\n",
       "    <tr style=\"text-align: right;\">\n",
       "      <th></th>\n",
       "      <th>Age</th>\n",
       "      <th>Workclass</th>\n",
       "      <th>Education_Num</th>\n",
       "      <th>Martial_Status</th>\n",
       "      <th>Occupation</th>\n",
       "      <th>Relationship</th>\n",
       "      <th>Race</th>\n",
       "      <th>Sex</th>\n",
       "      <th>Capital_Gain</th>\n",
       "      <th>Capital_Loss</th>\n",
       "      <th>Hours_per_week</th>\n",
       "      <th>Country</th>\n",
       "      <th>Edu*Hr</th>\n",
       "    </tr>\n",
       "  </thead>\n",
       "  <tbody>\n",
       "    <tr>\n",
       "      <th>0</th>\n",
       "      <td>38</td>\n",
       "      <td>Private</td>\n",
       "      <td>9</td>\n",
       "      <td>Married-civ-spouse</td>\n",
       "      <td>Farming-fishing</td>\n",
       "      <td>Husband</td>\n",
       "      <td>White</td>\n",
       "      <td>Male</td>\n",
       "      <td>0</td>\n",
       "      <td>0</td>\n",
       "      <td>50</td>\n",
       "      <td>United-States</td>\n",
       "      <td>450</td>\n",
       "    </tr>\n",
       "    <tr>\n",
       "      <th>1</th>\n",
       "      <td>18</td>\n",
       "      <td>Others</td>\n",
       "      <td>10</td>\n",
       "      <td>Never-married</td>\n",
       "      <td>NaN</td>\n",
       "      <td>Own-child</td>\n",
       "      <td>White</td>\n",
       "      <td>Female</td>\n",
       "      <td>0</td>\n",
       "      <td>0</td>\n",
       "      <td>30</td>\n",
       "      <td>United-States</td>\n",
       "      <td>300</td>\n",
       "    </tr>\n",
       "    <tr>\n",
       "      <th>2</th>\n",
       "      <td>34</td>\n",
       "      <td>Private</td>\n",
       "      <td>6</td>\n",
       "      <td>Never-married</td>\n",
       "      <td>Other-service</td>\n",
       "      <td>Not-in-family</td>\n",
       "      <td>White</td>\n",
       "      <td>Male</td>\n",
       "      <td>0</td>\n",
       "      <td>0</td>\n",
       "      <td>30</td>\n",
       "      <td>United-States</td>\n",
       "      <td>180</td>\n",
       "    </tr>\n",
       "    <tr>\n",
       "      <th>3</th>\n",
       "      <td>29</td>\n",
       "      <td>Others</td>\n",
       "      <td>9</td>\n",
       "      <td>Never-married</td>\n",
       "      <td>NaN</td>\n",
       "      <td>Unmarried</td>\n",
       "      <td>Black</td>\n",
       "      <td>Male</td>\n",
       "      <td>0</td>\n",
       "      <td>0</td>\n",
       "      <td>40</td>\n",
       "      <td>United-States</td>\n",
       "      <td>360</td>\n",
       "    </tr>\n",
       "    <tr>\n",
       "      <th>4</th>\n",
       "      <td>55</td>\n",
       "      <td>Private</td>\n",
       "      <td>4</td>\n",
       "      <td>Married-civ-spouse</td>\n",
       "      <td>Craft-repair</td>\n",
       "      <td>Husband</td>\n",
       "      <td>White</td>\n",
       "      <td>Male</td>\n",
       "      <td>0</td>\n",
       "      <td>0</td>\n",
       "      <td>10</td>\n",
       "      <td>United-States</td>\n",
       "      <td>40</td>\n",
       "    </tr>\n",
       "  </tbody>\n",
       "</table>\n",
       "</div>"
      ],
      "text/plain": [
       "   Age Workclass  Education_Num       Martial_Status        Occupation  \\\n",
       "0   38   Private              9   Married-civ-spouse   Farming-fishing   \n",
       "1   18    Others             10        Never-married               NaN   \n",
       "2   34   Private              6        Never-married     Other-service   \n",
       "3   29    Others              9        Never-married               NaN   \n",
       "4   55   Private              4   Married-civ-spouse      Craft-repair   \n",
       "\n",
       "     Relationship    Race      Sex  Capital_Gain  Capital_Loss  \\\n",
       "0         Husband   White     Male             0             0   \n",
       "1       Own-child   White   Female             0             0   \n",
       "2   Not-in-family   White     Male             0             0   \n",
       "3       Unmarried   Black     Male             0             0   \n",
       "4         Husband   White     Male             0             0   \n",
       "\n",
       "   Hours_per_week         Country  Edu*Hr  \n",
       "0              50   United-States     450  \n",
       "1              30   United-States     300  \n",
       "2              30   United-States     180  \n",
       "3              40   United-States     360  \n",
       "4              10   United-States      40  "
      ]
     },
     "execution_count": 10,
     "metadata": {},
     "output_type": "execute_result"
    }
   ],
   "source": [
    "x_data['Edu*Hr'] = x_data['Education_Num']*x_data['Hours_per_week']\n",
    "x_data.head()"
   ]
  },
  {
   "cell_type": "markdown",
   "metadata": {},
   "source": [
    "<font color = blue> 4. *Martial_Status* --- dealing with missing value and group the data"
   ]
  },
  {
   "cell_type": "code",
   "execution_count": 11,
   "metadata": {},
   "outputs": [
    {
     "data": {
      "text/plain": [
       " Married-civ-spouse       22379\n",
       " Never-married            16117\n",
       " Divorced                  6633\n",
       " Separated                 1530\n",
       " Widowed                   1518\n",
       " Married-spouse-absent      628\n",
       " Married-AF-spouse           37\n",
       "Name: Martial_Status, dtype: int64"
      ]
     },
     "execution_count": 11,
     "metadata": {},
     "output_type": "execute_result"
    }
   ],
   "source": [
    "# Observe the categories of Martial_Status\n",
    "x_data['Martial_Status'].value_counts(dropna = False)"
   ]
  },
  {
   "cell_type": "markdown",
   "metadata": {},
   "source": [
    "<font color = green> Since the number of *Married-spouse-absent* and *Married-AF-spouse* are relatively low, I group them with *Married-civ-spouse* into the group *Married*."
   ]
  },
  {
   "cell_type": "code",
   "execution_count": 12,
   "metadata": {},
   "outputs": [
    {
     "data": {
      "image/png": "[encoded data removed]",
      "text/plain": [
       "<Figure size 720x288 with 1 Axes>"
      ]
     },
     "metadata": {
      "needs_background": "light"
     },
     "output_type": "display_data"
    }
   ],
   "source": [
    "# Group the data\n",
    "Married = [' Married-civ-spouse',' Married-spouse-absent',' Married-AF-spouse']\n",
    "x_data['Martial_Status'] = x_data['Martial_Status'].replace(Married, ' Married')\n",
    "\n",
    "# Plot the result after grouping\n",
    "mar_x = x_data['Martial_Status'].value_counts(dropna = False).keys().to_list()\n",
    "mar_cnt = x_data['Martial_Status'].value_counts(dropna = False).to_list()\n",
    "\n",
    "plt.figure(figsize=(10,4))\n",
    "plt.bar( mar_x, mar_cnt, color = 'grey', width = 0.6)\n",
    "plt.xlabel('Martial_Status')\n",
    "plt.ylabel('Count')\n",
    "plt.title('Distribution of Martial_Status (after grouping)')\n",
    "plt.show()\n",
    "plt.close()"
   ]
  },
  {
   "cell_type": "markdown",
   "metadata": {},
   "source": [
    "<font color = blue> 5. *Occupation* --- dealing with missing value"
   ]
  },
  {
   "cell_type": "code",
   "execution_count": 13,
   "metadata": {},
   "outputs": [
    {
     "name": "stdout",
     "output_type": "stream",
     "text": [
      " Prof-specialty       6172\n",
      " Craft-repair         6112\n",
      " Exec-managerial      6086\n",
      " Adm-clerical         5611\n",
      " Sales                5504\n",
      " Other-service        4923\n",
      " Machine-op-inspct    3022\n",
      "NaN                   2809\n",
      " Transport-moving     2355\n",
      " Handlers-cleaners    2072\n",
      " Farming-fishing      1490\n",
      " Tech-support         1446\n",
      " Protective-serv       983\n",
      " Priv-house-serv       242\n",
      " Armed-Forces           15\n",
      "Name: Occupation, dtype: int64\n"
     ]
    }
   ],
   "source": [
    "# Observe the categories of Occupation\n",
    "print(x_data['Occupation'].value_counts(dropna=False))"
   ]
  },
  {
   "cell_type": "code",
   "execution_count": 14,
   "metadata": {},
   "outputs": [],
   "source": [
    "# Fill missing values with Other-service\n",
    "x_data['Occupation'] = x_data['Occupation'].fillna( value = ' Other-service')"
   ]
  },
  {
   "cell_type": "markdown",
   "metadata": {},
   "source": [
    "<font color = blue> 6. *Country* --- dealing with missing values and group the data"
   ]
  },
  {
   "cell_type": "code",
   "execution_count": 15,
   "metadata": {},
   "outputs": [
    {
     "name": "stdout",
     "output_type": "stream",
     "text": [
      " United-States                 43832\n",
      " Mexico                          951\n",
      "NaN                              857\n",
      " Philippines                     295\n",
      " Germany                         206\n",
      " Puerto-Rico                     184\n",
      " Canada                          182\n",
      " El-Salvador                     155\n",
      " India                           151\n",
      " Cuba                            138\n",
      " England                         127\n",
      " China                           122\n",
      " South                           115\n",
      " Jamaica                         106\n",
      " Italy                           105\n",
      " Dominican-Republic              103\n",
      " Japan                            92\n",
      " Guatemala                        88\n",
      " Poland                           87\n",
      " Vietnam                          86\n",
      " Columbia                         85\n",
      " Haiti                            75\n",
      " Portugal                         67\n",
      " Taiwan                           65\n",
      " Iran                             59\n",
      " Nicaragua                        49\n",
      " Greece                           49\n",
      " Peru                             46\n",
      " Ecuador                          45\n",
      " France                           38\n",
      " Ireland                          37\n",
      " Hong                             30\n",
      " Thailand                         30\n",
      " Cambodia                         28\n",
      " Trinadad&Tobago                  27\n",
      " Laos                             23\n",
      " Yugoslavia                       23\n",
      " Outlying-US(Guam-USVI-etc)       23\n",
      " Scotland                         21\n",
      " Honduras                         20\n",
      " Hungary                          19\n",
      " Holand-Netherlands                1\n",
      "Name: Country, dtype: int64\n"
     ]
    }
   ],
   "source": [
    "# Observe the categories of Country\n",
    "print(x_data['Country'].value_counts(dropna=False))"
   ]
  },
  {
   "cell_type": "code",
   "execution_count": 16,
   "metadata": {},
   "outputs": [],
   "source": [
    "# Fill nan values with United-States\n",
    "x_data['Country'] = x_data['Country'].fillna( value = ' United-States')\n",
    "\n",
    "# Group the data, except United-States, Maxico, Canada, and South, by their locations\n",
    "x_data['Country'] = x_data['Country'].replace([' Philippines', ' India', ' Vietnam', ' Thailand', ' Laos', ' Cambodia', ' Iran'] ,' SE-Asia')\n",
    "x_data['Country'] = x_data['Country'].replace([' China', ' Taiwan', ' Japan', ' Hong'] ,' E-Asia')\n",
    "x_data['Country'] = x_data['Country'].replace([' Germany', ' England', ' Italy', ' Poland', ' Portugal',' Greece',' France',' Ireland',\n",
    "                                               ' Yugoslavia',' Scotland',' Hungary', ' Holand-Netherlands'] ,' Europe')\n",
    "x_data['Country'] = x_data['Country'].replace([' Puerto-Rico', ' El-Salvador', ' Cuba', ' Jamaica', ' Dominican-Republic', ' Guatemala', ' Haiti',\n",
    "                                               ' Nicaragua',' Trinadad&Tobago',' Honduras'] ,' Central-America')\n",
    "x_data['Country'] = x_data['Country'].replace([' Columbia',' Peru',' Ecuador' ] \n",
    "                                              ,' South-America')\n",
    "x_data['Country'] = x_data['Country'].replace([' Outlying-US(Guam-USVI-etc)' ] ,' United-States')"
   ]
  },
  {
   "cell_type": "code",
   "execution_count": 17,
   "metadata": {},
   "outputs": [
    {
     "data": {
      "image/png": "[encoded data removed]",
      "text/plain": [
       "<Figure size 864x288 with 1 Axes>"
      ]
     },
     "metadata": {
      "needs_background": "light"
     },
     "output_type": "display_data"
    }
   ],
   "source": [
    "# Plot the result after grouping\n",
    "cty_x = x_data['Country'].value_counts(dropna=False).keys().to_list()\n",
    "cty_cnt = x_data['Country'].value_counts(dropna=False).to_list()\n",
    "\n",
    "plt.figure(figsize=(12,4))\n",
    "plt.bar( cty_x, cty_cnt, color = 'grey', width = 0.6)\n",
    "plt.xlabel('Country')\n",
    "plt.ylabel('Count')\n",
    "plt.title('Distribution of Country (after grouping)')\n",
    "plt.show()\n",
    "plt.close()"
   ]
  },
  {
   "cell_type": "markdown",
   "metadata": {},
   "source": [
    "<font color = blue> 7. *Target* --- unbalanced data"
   ]
  },
  {
   "cell_type": "code",
   "execution_count": 18,
   "metadata": {},
   "outputs": [
    {
     "data": {
      "image/png": "[encoded data removed]",
      "text/plain": [
       "<Figure size 288x288 with 1 Axes>"
      ]
     },
     "metadata": {},
     "output_type": "display_data"
    }
   ],
   "source": [
    "# Plot the pie chart of Target in training set\n",
    "target_x = [0,1]\n",
    "num_1 = sum(y_train['Target'])\n",
    "num_0 = len(y_train['Target']) - num_1\n",
    "target_cnt = [ num_0, num_1]\n",
    "\n",
    "plt.figure(figsize=(4,4))\n",
    "plt.pie( target_cnt, labels = target_x, colors = ['lightskyblue', 'pink'], autopct = \"%1.1f%%\",)\n",
    "plt.title('Pie Chart of Target')\n",
    "plt.show()\n",
    "plt.close()"
   ]
  },
  {
   "cell_type": "markdown",
   "metadata": {},
   "source": [
    "<font color = green> The pie chart shows that the target distribution is \"unbalanced\".  \n",
    "    Besides, after submitting \"sub_try.csv\", which with all target labeled 1, I got accuracy = 0.59 on Kaggle.  \n",
    "    I reasonably guessed that the distribution of target in the testing set is not that unbalanced like in the training set.  \n",
    "    Hence, we need to tackle **unbalanced data problem** later when building the model!"
   ]
  },
  {
   "cell_type": "markdown",
   "metadata": {},
   "source": [
    "<font color = blue>**Step 3: One-hot-encoding**"
   ]
  },
  {
   "cell_type": "code",
   "execution_count": 19,
   "metadata": {},
   "outputs": [
    {
     "data": {
      "text/html": [
       "<div>\n",
       "<style scoped>\n",
       "    .dataframe tbody tr th:only-of-type {\n",
       "        vertical-align: middle;\n",
       "    }\n",
       "\n",
       "    .dataframe tbody tr th {\n",
       "        vertical-align: top;\n",
       "    }\n",
       "\n",
       "    .dataframe thead th {\n",
       "        text-align: right;\n",
       "    }\n",
       "</style>\n",
       "<table border=\"1\" class=\"dataframe\">\n",
       "  <thead>\n",
       "    <tr style=\"text-align: right;\">\n",
       "      <th></th>\n",
       "      <th>Age</th>\n",
       "      <th>Education_Num</th>\n",
       "      <th>Capital_Gain</th>\n",
       "      <th>Capital_Loss</th>\n",
       "      <th>Hours_per_week</th>\n",
       "      <th>Edu*Hr</th>\n",
       "      <th>Workclass_ Others</th>\n",
       "      <th>Workclass_ Private</th>\n",
       "      <th>Workclass_ Self</th>\n",
       "      <th>Martial_Status_ Married</th>\n",
       "      <th>Martial_Status_ Never-married</th>\n",
       "      <th>Martial_Status_ Separated</th>\n",
       "      <th>Martial_Status_ Widowed</th>\n",
       "      <th>Occupation_ Armed-Forces</th>\n",
       "      <th>Occupation_ Craft-repair</th>\n",
       "      <th>Occupation_ Exec-managerial</th>\n",
       "      <th>Occupation_ Farming-fishing</th>\n",
       "      <th>Occupation_ Handlers-cleaners</th>\n",
       "      <th>Occupation_ Machine-op-inspct</th>\n",
       "      <th>Occupation_ Other-service</th>\n",
       "      <th>Occupation_ Priv-house-serv</th>\n",
       "      <th>Occupation_ Prof-specialty</th>\n",
       "      <th>Occupation_ Protective-serv</th>\n",
       "      <th>Occupation_ Sales</th>\n",
       "      <th>Occupation_ Tech-support</th>\n",
       "      <th>Occupation_ Transport-moving</th>\n",
       "      <th>Relationship_ Not-in-family</th>\n",
       "      <th>Relationship_ Other-relative</th>\n",
       "      <th>Relationship_ Own-child</th>\n",
       "      <th>Relationship_ Unmarried</th>\n",
       "      <th>Relationship_ Wife</th>\n",
       "      <th>Race_ Asian-Pac-Islander</th>\n",
       "      <th>Race_ Black</th>\n",
       "      <th>Race_ Other</th>\n",
       "      <th>Race_ White</th>\n",
       "      <th>Sex_ Male</th>\n",
       "      <th>Country_ Central-America</th>\n",
       "      <th>Country_ E-Asia</th>\n",
       "      <th>Country_ Europe</th>\n",
       "      <th>Country_ Mexico</th>\n",
       "      <th>Country_ SE-Asia</th>\n",
       "      <th>Country_ South</th>\n",
       "      <th>Country_ South-America</th>\n",
       "      <th>Country_ United-States</th>\n",
       "    </tr>\n",
       "  </thead>\n",
       "  <tbody>\n",
       "    <tr>\n",
       "      <th>0</th>\n",
       "      <td>38</td>\n",
       "      <td>9</td>\n",
       "      <td>0</td>\n",
       "      <td>0</td>\n",
       "      <td>50</td>\n",
       "      <td>450</td>\n",
       "      <td>0</td>\n",
       "      <td>1</td>\n",
       "      <td>0</td>\n",
       "      <td>1</td>\n",
       "      <td>0</td>\n",
       "      <td>0</td>\n",
       "      <td>0</td>\n",
       "      <td>0</td>\n",
       "      <td>0</td>\n",
       "      <td>0</td>\n",
       "      <td>1</td>\n",
       "      <td>0</td>\n",
       "      <td>0</td>\n",
       "      <td>0</td>\n",
       "      <td>0</td>\n",
       "      <td>0</td>\n",
       "      <td>0</td>\n",
       "      <td>0</td>\n",
       "      <td>0</td>\n",
       "      <td>0</td>\n",
       "      <td>0</td>\n",
       "      <td>0</td>\n",
       "      <td>0</td>\n",
       "      <td>0</td>\n",
       "      <td>0</td>\n",
       "      <td>0</td>\n",
       "      <td>0</td>\n",
       "      <td>0</td>\n",
       "      <td>1</td>\n",
       "      <td>1</td>\n",
       "      <td>0</td>\n",
       "      <td>0</td>\n",
       "      <td>0</td>\n",
       "      <td>0</td>\n",
       "      <td>0</td>\n",
       "      <td>0</td>\n",
       "      <td>0</td>\n",
       "      <td>1</td>\n",
       "    </tr>\n",
       "    <tr>\n",
       "      <th>1</th>\n",
       "      <td>18</td>\n",
       "      <td>10</td>\n",
       "      <td>0</td>\n",
       "      <td>0</td>\n",
       "      <td>30</td>\n",
       "      <td>300</td>\n",
       "      <td>1</td>\n",
       "      <td>0</td>\n",
       "      <td>0</td>\n",
       "      <td>0</td>\n",
       "      <td>1</td>\n",
       "      <td>0</td>\n",
       "      <td>0</td>\n",
       "      <td>0</td>\n",
       "      <td>0</td>\n",
       "      <td>0</td>\n",
       "      <td>0</td>\n",
       "      <td>0</td>\n",
       "      <td>0</td>\n",
       "      <td>1</td>\n",
       "      <td>0</td>\n",
       "      <td>0</td>\n",
       "      <td>0</td>\n",
       "      <td>0</td>\n",
       "      <td>0</td>\n",
       "      <td>0</td>\n",
       "      <td>0</td>\n",
       "      <td>0</td>\n",
       "      <td>1</td>\n",
       "      <td>0</td>\n",
       "      <td>0</td>\n",
       "      <td>0</td>\n",
       "      <td>0</td>\n",
       "      <td>0</td>\n",
       "      <td>1</td>\n",
       "      <td>0</td>\n",
       "      <td>0</td>\n",
       "      <td>0</td>\n",
       "      <td>0</td>\n",
       "      <td>0</td>\n",
       "      <td>0</td>\n",
       "      <td>0</td>\n",
       "      <td>0</td>\n",
       "      <td>1</td>\n",
       "    </tr>\n",
       "  </tbody>\n",
       "</table>\n",
       "</div>"
      ],
      "text/plain": [
       "   Age  Education_Num  Capital_Gain  Capital_Loss  Hours_per_week  Edu*Hr  \\\n",
       "0   38              9             0             0              50     450   \n",
       "1   18             10             0             0              30     300   \n",
       "\n",
       "   Workclass_ Others  Workclass_ Private  Workclass_ Self  \\\n",
       "0                  0                   1                0   \n",
       "1                  1                   0                0   \n",
       "\n",
       "   Martial_Status_ Married  Martial_Status_ Never-married  \\\n",
       "0                        1                              0   \n",
       "1                        0                              1   \n",
       "\n",
       "   Martial_Status_ Separated  Martial_Status_ Widowed  \\\n",
       "0                          0                        0   \n",
       "1                          0                        0   \n",
       "\n",
       "   Occupation_ Armed-Forces  Occupation_ Craft-repair  \\\n",
       "0                         0                         0   \n",
       "1                         0                         0   \n",
       "\n",
       "   Occupation_ Exec-managerial  Occupation_ Farming-fishing  \\\n",
       "0                            0                            1   \n",
       "1                            0                            0   \n",
       "\n",
       "   Occupation_ Handlers-cleaners  Occupation_ Machine-op-inspct  \\\n",
       "0                              0                              0   \n",
       "1                              0                              0   \n",
       "\n",
       "   Occupation_ Other-service  Occupation_ Priv-house-serv  \\\n",
       "0                          0                            0   \n",
       "1                          1                            0   \n",
       "\n",
       "   Occupation_ Prof-specialty  Occupation_ Protective-serv  Occupation_ Sales  \\\n",
       "0                           0                            0                  0   \n",
       "1                           0                            0                  0   \n",
       "\n",
       "   Occupation_ Tech-support  Occupation_ Transport-moving  \\\n",
       "0                         0                             0   \n",
       "1                         0                             0   \n",
       "\n",
       "   Relationship_ Not-in-family  Relationship_ Other-relative  \\\n",
       "0                            0                             0   \n",
       "1                            0                             0   \n",
       "\n",
       "   Relationship_ Own-child  Relationship_ Unmarried  Relationship_ Wife  \\\n",
       "0                        0                        0                   0   \n",
       "1                        1                        0                   0   \n",
       "\n",
       "   Race_ Asian-Pac-Islander  Race_ Black  Race_ Other  Race_ White  Sex_ Male  \\\n",
       "0                         0            0            0            1          1   \n",
       "1                         0            0            0            1          0   \n",
       "\n",
       "   Country_ Central-America  Country_ E-Asia  Country_ Europe  \\\n",
       "0                         0                0                0   \n",
       "1                         0                0                0   \n",
       "\n",
       "   Country_ Mexico  Country_ SE-Asia  Country_ South  Country_ South-America  \\\n",
       "0                0                 0               0                       0   \n",
       "1                0                 0               0                       0   \n",
       "\n",
       "   Country_ United-States  \n",
       "0                       1  \n",
       "1                       1  "
      ]
     },
     "execution_count": 19,
     "metadata": {},
     "output_type": "execute_result"
    }
   ],
   "source": [
    "# Transfer all categorical data using one-hot-encoding\n",
    "x_data_ohe = pd.get_dummies( x_data, drop_first=True ) # drop_first = True can avoid colinearity!\n",
    "pd.set_option('display.max_columns',47)\n",
    "x_data_ohe.head(2)"
   ]
  },
  {
   "cell_type": "markdown",
   "metadata": {},
   "source": [
    "  "
   ]
  },
  {
   "cell_type": "markdown",
   "metadata": {},
   "source": [
    "<font color = blue> **Step 4. Standardization**"
   ]
  },
  {
   "cell_type": "code",
   "execution_count": 20,
   "metadata": {},
   "outputs": [],
   "source": [
    "# Split x_data_ohe back into training and testing data(as the same as the sets in the beginning\n",
    "x_train_ohe = x_data_ohe[:29514]\n",
    "x_test_ohe = x_data_ohe[29514:]"
   ]
  },
  {
   "cell_type": "code",
   "execution_count": 21,
   "metadata": {},
   "outputs": [
    {
     "name": "stderr",
     "output_type": "stream",
     "text": [
      "C:\\Users\\ASUS\\Anaconda3\\lib\\site-packages\\ipykernel_launcher.py:6: SettingWithCopyWarning: \n",
      "A value is trying to be set on a copy of a slice from a DataFrame.\n",
      "Try using .loc[row_indexer,col_indexer] = value instead\n",
      "\n",
      "See the caveats in the documentation: http://pandas.pydata.org/pandas-docs/stable/indexing.html#indexing-view-versus-copy\n",
      "  \n",
      "C:\\Users\\ASUS\\Anaconda3\\lib\\site-packages\\pandas\\core\\indexing.py:543: SettingWithCopyWarning: \n",
      "A value is trying to be set on a copy of a slice from a DataFrame.\n",
      "Try using .loc[row_indexer,col_indexer] = value instead\n",
      "\n",
      "See the caveats in the documentation: http://pandas.pydata.org/pandas-docs/stable/indexing.html#indexing-view-versus-copy\n",
      "  self.obj[item] = s\n",
      "C:\\Users\\ASUS\\Anaconda3\\lib\\site-packages\\ipykernel_launcher.py:7: SettingWithCopyWarning: \n",
      "A value is trying to be set on a copy of a slice from a DataFrame.\n",
      "Try using .loc[row_indexer,col_indexer] = value instead\n",
      "\n",
      "See the caveats in the documentation: http://pandas.pydata.org/pandas-docs/stable/indexing.html#indexing-view-versus-copy\n",
      "  import sys\n",
      "C:\\Users\\ASUS\\Anaconda3\\lib\\site-packages\\pandas\\core\\indexing.py:543: SettingWithCopyWarning: \n",
      "A value is trying to be set on a copy of a slice from a DataFrame.\n",
      "Try using .loc[row_indexer,col_indexer] = value instead\n",
      "\n",
      "See the caveats in the documentation: http://pandas.pydata.org/pandas-docs/stable/indexing.html#indexing-view-versus-copy\n",
      "  self.obj[item] = s\n"
     ]
    }
   ],
   "source": [
    "# Use StandardScaler(), fit it with training data and use it the tranform both training and testing data\n",
    "from sklearn.preprocessing import StandardScaler\n",
    "numerical_feature = ['Age', 'Education_Num', 'Capital_Gain','Capital_Loss','Hours_per_week', 'Edu*Hr']\n",
    "scalar = StandardScaler().fit( x_train_ohe[numerical_feature] )\n",
    "\n",
    "x_train_ohe[ numerical_feature ] = scalar.transform( x_train_ohe[ numerical_feature ])\n",
    "x_test_ohe[ numerical_feature ] = scalar.transform( x_test_ohe[ numerical_feature ])"
   ]
  },
  {
   "cell_type": "code",
   "execution_count": 22,
   "metadata": {},
   "outputs": [
    {
     "data": {
      "text/plain": [
       "Age              -3.996186e-16\n",
       "Education_Num     5.073325e-16\n",
       "Capital_Gain     -9.794481e-18\n",
       "Capital_Loss     -2.428298e-16\n",
       "Hours_per_week    1.489175e-16\n",
       "Edu*Hr           -3.266871e-16\n",
       "dtype: float64"
      ]
     },
     "execution_count": 22,
     "metadata": {},
     "output_type": "execute_result"
    }
   ],
   "source": [
    "# Ensure the means have been tranferred to nearly zero\n",
    "x_train_ohe[numerical_feature].mean(axis = 0)"
   ]
  },
  {
   "cell_type": "code",
   "execution_count": 23,
   "metadata": {},
   "outputs": [
    {
     "name": "stderr",
     "output_type": "stream",
     "text": [
      "Using TensorFlow backend.\n"
     ]
    },
    {
     "data": {
      "text/plain": [
       "array([[1., 0.],\n",
       "       [1., 0.],\n",
       "       [1., 0.],\n",
       "       ...,\n",
       "       [1., 0.],\n",
       "       [1., 0.],\n",
       "       [1., 0.]], dtype=float32)"
      ]
     },
     "execution_count": 23,
     "metadata": {},
     "output_type": "execute_result"
    }
   ],
   "source": [
    "# Convert dataframe into numpy array for keras model\n",
    "x_train_np = x_train_ohe.values\n",
    "x_test_np = x_test_ohe.values\n",
    "y_train = y_train.values\n",
    "\n",
    "# Convert y_train into categorical data\n",
    "from keras.utils.np_utils import to_categorical\n",
    "\n",
    "y_train = to_categorical(y_train)\n",
    "y_train"
   ]
  },
  {
   "cell_type": "markdown",
   "metadata": {},
   "source": [
    "**<font color = blue>Step 5: Building model**"
   ]
  },
  {
   "cell_type": "code",
   "execution_count": 50,
   "metadata": {},
   "outputs": [],
   "source": [
    "# Separate training set into partial training data and validation data\n",
    "x_val = x_train_np[-6000:]\n",
    "partial_x_train = x_train_np[:-6000]\n",
    "y_val = y_train[-6000:]\n",
    "partial_y_train = y_train[:-6000]"
   ]
  },
  {
   "cell_type": "markdown",
   "metadata": {},
   "source": [
    "<font color = green> As mentioned above, we need to tackle unbalanced data problem.    \n",
    "    I have two steps to complete that.  \n",
    "    $\\quad$ 1. Adjust the weights on 0 and 1 targets in training set when training model  \n",
    "    $\\quad$ 2. Adjust the validation set into a balanced data set"
   ]
  },
  {
   "cell_type": "code",
   "execution_count": 58,
   "metadata": {},
   "outputs": [],
   "source": [
    "import keras as keras\n",
    "from keras import models\n",
    "from keras import layers"
   ]
  },
  {
   "cell_type": "code",
   "execution_count": 65,
   "metadata": {},
   "outputs": [],
   "source": [
    "# Create neural network model by keras\n",
    "model = models.Sequential()\n",
    "model.add(layers.Dense(64, activation='relu', input_shape=(44,)))\n",
    "model.add(layers.Dense(32, activation='relu'))\n",
    "model.add(layers.Dense(16, activation='relu'))\n",
    "model.add(layers.Dense(10, activation='relu'))\n",
    "model.add(layers.Dense(2, activation='softmax'))"
   ]
  },
  {
   "cell_type": "code",
   "execution_count": 66,
   "metadata": {},
   "outputs": [],
   "source": [
    "# To tackle unbalanced data issue, I set the weight of 0 as 0.135 with respect to the weight of 1\n",
    "# 0.135 comes from the approximate ratio of (targets=1)/(targets=0) in the training set\n",
    "\n",
    "from sklearn.utils.class_weight import compute_class_weight\n",
    "\n",
    "y_integers = np.argmax(partial_y_train, axis=1)\n",
    "dic_weight = {0:0.135, 1:1}\n",
    "class_weights = compute_class_weight(dic_weight, np.unique(y_integers), y_integers)\n",
    "d_class_weights = dict(enumerate(class_weights))"
   ]
  },
  {
   "cell_type": "code",
   "execution_count": 67,
   "metadata": {},
   "outputs": [],
   "source": [
    "keras.optimizers.RMSprop(learning_rate=0.000001)\n",
    "model.compile(optimizer='rmsprop',\n",
    "              loss='categorical_crossentropy',\n",
    "              metrics=['accuracy'],)"
   ]
  },
  {
   "cell_type": "code",
   "execution_count": 68,
   "metadata": {},
   "outputs": [
    {
     "name": "stdout",
     "output_type": "stream",
     "text": [
      "Train on 23514 samples, validate on 6000 samples\n",
      "Epoch 1/15\n",
      " - 1s - loss: 0.1492 - accuracy: 0.6509 - val_loss: 0.5979 - val_accuracy: 0.7320\n",
      "Epoch 2/15\n",
      " - 0s - loss: 0.1159 - accuracy: 0.7615 - val_loss: 0.4500 - val_accuracy: 0.7955\n",
      "Epoch 3/15\n",
      " - 0s - loss: 0.1007 - accuracy: 0.7834 - val_loss: 0.3852 - val_accuracy: 0.8197\n",
      "Epoch 4/15\n",
      " - 0s - loss: 0.0954 - accuracy: 0.7919 - val_loss: 0.3602 - val_accuracy: 0.8245\n",
      "Epoch 5/15\n",
      " - 0s - loss: 0.0928 - accuracy: 0.7966 - val_loss: 0.4245 - val_accuracy: 0.7828\n",
      "Epoch 6/15\n",
      " - 0s - loss: 0.0914 - accuracy: 0.7967 - val_loss: 0.4045 - val_accuracy: 0.7932\n",
      "Epoch 7/15\n",
      " - 0s - loss: 0.0900 - accuracy: 0.7983 - val_loss: 0.3999 - val_accuracy: 0.7985\n",
      "Epoch 8/15\n",
      " - 0s - loss: 0.0895 - accuracy: 0.8009 - val_loss: 0.3698 - val_accuracy: 0.8132\n",
      "Epoch 9/15\n",
      " - 0s - loss: 0.0893 - accuracy: 0.7977 - val_loss: 0.3749 - val_accuracy: 0.8110\n",
      "Epoch 10/15\n",
      " - 0s - loss: 0.0887 - accuracy: 0.8011 - val_loss: 0.4132 - val_accuracy: 0.7892\n",
      "Epoch 11/15\n",
      " - 0s - loss: 0.0878 - accuracy: 0.7990 - val_loss: 0.3479 - val_accuracy: 0.8262\n",
      "Epoch 12/15\n",
      " - 0s - loss: 0.0874 - accuracy: 0.8037 - val_loss: 0.4411 - val_accuracy: 0.7752\n",
      "Epoch 13/15\n",
      " - 0s - loss: 0.0880 - accuracy: 0.7975 - val_loss: 0.3497 - val_accuracy: 0.8215\n",
      "Epoch 14/15\n",
      " - 0s - loss: 0.0869 - accuracy: 0.8038 - val_loss: 0.3497 - val_accuracy: 0.8228\n",
      "Epoch 15/15\n",
      " - 0s - loss: 0.0866 - accuracy: 0.8017 - val_loss: 0.3758 - val_accuracy: 0.8068\n"
     ]
    }
   ],
   "source": [
    "history = model.fit(partial_x_train,\n",
    "                    partial_y_train,\n",
    "                    epochs=15,\n",
    "                    batch_size=2000,\n",
    "                    validation_data=(x_val, y_val),\n",
    "                    verbose=2, class_weight=d_class_weights)"
   ]
  },
  {
   "cell_type": "code",
   "execution_count": 69,
   "metadata": {},
   "outputs": [
    {
     "data": {
      "image/png": "[encoded data removed]",
      "text/plain": [
       "<Figure size 432x288 with 1 Axes>"
      ]
     },
     "metadata": {
      "needs_background": "light"
     },
     "output_type": "display_data"
    }
   ],
   "source": [
    "# Plot the loss value\n",
    "loss = history.history['loss']\n",
    "val_loss = history.history['val_loss']\n",
    "epochs = range(1, len(loss) + 1)\n",
    "\n",
    "plt.plot(epochs, loss, 'bo', label='Training loss')\n",
    "plt.plot(epochs, val_loss, 'b', label='Validation loss')\n",
    "plt.title('Training and validation loss')\n",
    "plt.xlabel('Epochs')\n",
    "plt.ylabel('Loss')\n",
    "plt.legend()\n",
    "plt.show()"
   ]
  },
  {
   "cell_type": "code",
   "execution_count": 70,
   "metadata": {},
   "outputs": [
    {
     "data": {
      "image/png": "[encoded data removed]",
      "text/plain": [
       "<Figure size 432x288 with 1 Axes>"
      ]
     },
     "metadata": {
      "needs_background": "light"
     },
     "output_type": "display_data"
    }
   ],
   "source": [
    "# plot the accuracy rate\n",
    "plt.clf()\n",
    "acc = history.history['accuracy']\n",
    "val_acc = history.history['val_accuracy']\n",
    "\n",
    "plt.plot(epochs, acc, 'bo', label='Training acc')\n",
    "plt.plot(epochs, val_acc, 'b', label='Validation acc')\n",
    "plt.title('Training and validation accuracy')\n",
    "plt.xlabel('Epochs')\n",
    "plt.ylabel('Acuracy')\n",
    "plt.legend()\n",
    "plt.show()"
   ]
  },
  {
   "cell_type": "code",
   "execution_count": 32,
   "metadata": {},
   "outputs": [],
   "source": [
    "# Predict on the test set\n",
    "predictions = model.predict(x_test_np)\n",
    "\n",
    "# Determine the final predictions by choosing the index of larger value in predictions array\n",
    "predictions_final = np.argmax(predictions, axis = 1)\n",
    "\n",
    "# Convert predictions array into dataframe and combine it with ID\n",
    "target = pd.DataFrame(predictions_final, dtype = int, columns = ['Target'])\n",
    "sub = x_test['ID']\n",
    "sub = pd.concat( [sub, target], axis=1 )"
   ]
  },
  {
   "cell_type": "code",
   "execution_count": 33,
   "metadata": {},
   "outputs": [],
   "source": [
    "# Export the result into csv file\n",
    "pd.DataFrame(sub).to_csv(\"sub_last_1.csv\",index = False)"
   ]
  }
 ],
 "metadata": {
  "kernelspec": {
   "display_name": "Python 3",
   "language": "python",
   "name": "python3"
  },
  "language_info": {
   "codemirror_mode": {
    "name": "ipython",
    "version": 3
   },
   "file_extension": ".py",
   "mimetype": "text/x-python",
   "name": "python",
   "nbconvert_exporter": "python",
   "pygments_lexer": "ipython3",
   "version": "3.7.3"
  }
 },
 "nbformat": 4,
 "nbformat_minor": 4
}
